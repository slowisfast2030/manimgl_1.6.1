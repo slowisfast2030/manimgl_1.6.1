{
 "cells": [
  {
   "cell_type": "code",
   "execution_count": 3,
   "metadata": {},
   "outputs": [
    {
     "name": "stdout",
     "output_type": "stream",
     "text": [
      "[[ 0.70710678 -0.70710678  0.        ]\n",
      " [ 0.70710678  0.70710678  0.        ]\n",
      " [ 0.          0.          1.        ]]\n",
      "\n",
      "\n",
      "[-1.11022302e-16  1.41421356e+00  0.00000000e+00]\n"
     ]
    }
   ],
   "source": [
    "import numpy as np\n",
    "from scipy.spatial.transform import Rotation\n",
    "\n",
    "\"\"\"\n",
    "矩阵乘法的几何意义: point或者vector的旋转和伸缩\n",
    "如果规定伸缩比例为1, 矩阵就是正交阵\n",
    "\n",
    "那么\n",
    "正交阵的几何意义: point或者vector的旋转\n",
    "\n",
    "问题:\n",
    "为了产生给定的旋转效果，怎么生成这个矩阵呢？\n",
    "空间中旋转需要两个参数: axis和angle\n",
    "\n",
    "\"\"\"\n",
    "def get_norm(vect) -> float:\n",
    "    return sum((x**2 for x in vect))**0.5\n",
    "\n",
    "def normalize(vect: np.ndarray, fall_back: np.ndarray = None) -> np.ndarray:\n",
    "    norm = get_norm(vect)\n",
    "    if norm > 0:\n",
    "        return np.array(vect) / norm\n",
    "    elif fall_back is not None:\n",
    "        return fall_back\n",
    "    else:\n",
    "        return np.zeros(len(vect))\n",
    "    \n",
    "def rotation_matrix(angle: float, axis: np.ndarray) -> np.ndarray:\n",
    "    \"\"\"\n",
    "    Rotation in R^3 about a specified axis of rotation.\n",
    "    \"\"\"\n",
    "    return Rotation.from_rotvec(angle * normalize(axis)).as_matrix()\n",
    "\n",
    "\n",
    "# Define the angle and axis parameters\n",
    "angle = np.pi / 4 # 45 degrees in radians\n",
    "axis = np.array([0, 0, 1]) # The z-axis\n",
    "\n",
    "# Call the rotation_matrix function\n",
    "rot_mat = rotation_matrix(angle, axis)\n",
    "\n",
    "# Print the result\n",
    "# 正交阵\n",
    "print(rot_mat)\n",
    "\n",
    "point = np.array([1, 1, 0])\n",
    "res = np.dot(point, rot_mat.T)\n",
    "\n",
    "print(\"\\n\")\n",
    "# 忽略精度问题，绕z轴旋转，可以发现(1, 1, 0) --> (0, 1.414, 0)\n",
    "# 绕着z轴逆时针旋转了45度\n",
    "print(res)"
   ]
  },
  {
   "cell_type": "code",
   "execution_count": 9,
   "metadata": {},
   "outputs": [
    {
     "name": "stdout",
     "output_type": "stream",
     "text": [
      "[[ 0.70710678 -0.70710678  0.        ]\n",
      " [ 0.70710678  0.70710678  0.        ]\n",
      " [ 0.          0.          1.        ]]\n",
      "\n",
      "\n",
      "[1. 1. 0.]\n"
     ]
    }
   ],
   "source": [
    "import numpy as np\n",
    "from scipy.spatial.transform import Rotation\n",
    "\n",
    "\"\"\"\n",
    "矩阵乘法的几何意义: point或者vector的旋转和伸缩\n",
    "如果规定伸缩比例为1, 矩阵就是正交阵\n",
    "\n",
    "那么\n",
    "正交阵的几何意义: point或者vector的旋转\n",
    "\n",
    "问题:\n",
    "为了产生给定的旋转效果，怎么生成这个矩阵呢？\n",
    "空间中旋转需要两个参数: axis和angle\n",
    "\n",
    "\"\"\"\n",
    "def get_norm(vect) -> float:\n",
    "    return sum((x**2 for x in vect))**0.5\n",
    "\n",
    "def normalize(vect: np.ndarray, fall_back: np.ndarray = None) -> np.ndarray:\n",
    "    norm = get_norm(vect)\n",
    "    if norm > 0:\n",
    "        return np.array(vect) / norm\n",
    "    elif fall_back is not None:\n",
    "        return fall_back\n",
    "    else:\n",
    "        return np.zeros(len(vect))\n",
    "    \n",
    "def rotation_matrix(angle: float, axis: np.ndarray) -> np.ndarray:\n",
    "    \"\"\"\n",
    "    Rotation in R^3 about a specified axis of rotation.\n",
    "    \"\"\"\n",
    "    return Rotation.from_rotvec(angle * normalize(axis)).as_matrix()\n",
    "\n",
    "\n",
    "# Define the angle and axis parameters\n",
    "angle = np.pi / 4 # 45 degrees in radians\n",
    "axis = np.array([0, 0, 1]) # The z-axis\n",
    "\n",
    "# Call the rotation_matrix function\n",
    "# 这里做了一个假设，axis经过原点！！！\n",
    "rot_mat = rotation_matrix(angle, axis)\n",
    "\n",
    "# Print the result\n",
    "# 正交阵\n",
    "print(rot_mat)\n",
    "\n",
    "point = np.array([1, 1, 0])\n",
    "\"\"\"\n",
    "个人感觉, 对于point的旋转需要3个参数\n",
    "axis, about_point, angle\n",
    "上面的axis仅仅给出了axis的方向, 并没有给出axis经过的点\n",
    "\n",
    "通过下面的方法\n",
    "可以实现绕通过给定点的轴旋转\n",
    "本质是平移\n",
    "\"\"\"\n",
    "about_point = np.array([1/2, 1/2, 0])\n",
    "about_point = np.array([1, 1, 0])\n",
    "\n",
    "res = np.dot(point - about_point, rot_mat.T)\n",
    "res += about_point\n",
    "\n",
    "print(\"\\n\")\n",
    "print(res)"
   ]
  },
  {
   "cell_type": "code",
   "execution_count": 11,
   "metadata": {},
   "outputs": [
    {
     "name": "stdout",
     "output_type": "stream",
     "text": [
      "[[ 0.70710678 -0.70710678  0.        ]\n",
      " [ 0.70710678  0.70710678  0.        ]\n",
      " [ 0.          0.          1.        ]]\n",
      "[0.         0.         0.38268343 0.92387953]\n"
     ]
    }
   ],
   "source": [
    "from scipy.spatial.transform import Rotation\n",
    "\n",
    "def quaternion_from_angle_axis(\n",
    "    angle: float,\n",
    "    axis: np.ndarray,\n",
    "):\n",
    "    return Rotation.from_rotvec(angle * normalize(axis)).as_quat()\n",
    "\n",
    "# Define the angle and axis parameters\n",
    "angle = np.pi / 4 # 45 degrees in radians\n",
    "axis = np.array([0, 0, 1]) # The z-axis\n",
    "\n",
    "# Call the rotation_matrix function\n",
    "# 这里做了一个假设，axis经过原点！！！\n",
    "rot_mat = rotation_matrix(angle, axis)\n",
    "\n",
    "# Print the result\n",
    "# 正交阵\n",
    "print(rot_mat)\n",
    "\n",
    "quaternion = quaternion_from_angle_axis(angle, axis) \n",
    "print(quaternion)"
   ]
  },
  {
   "cell_type": "code",
   "execution_count": 13,
   "metadata": {},
   "outputs": [
    {
     "name": "stdout",
     "output_type": "stream",
     "text": [
      "0.9238795325112867\n",
      "0.3826834323650898\n"
     ]
    }
   ],
   "source": [
    "import math\n",
    "import numpy as np\n",
    "print(math.cos(np.pi/8))\n",
    "print(math.sin(np.pi/8))"
   ]
  },
  {
   "cell_type": "code",
   "execution_count": 18,
   "metadata": {},
   "outputs": [
    {
     "name": "stdout",
     "output_type": "stream",
     "text": [
      "0.7853981633974484 [0. 0. 1.]\n",
      "0.7853981633974483\n"
     ]
    }
   ],
   "source": [
    "import numpy as np\n",
    "from scipy.spatial.transform import Rotation\n",
    "\n",
    "def angle_axis_from_quaternion(quat):\n",
    "    rot_vec = Rotation.from_quat(quat).as_rotvec()\n",
    "    norm = get_norm(rot_vec)\n",
    "    return norm, rot_vec / norm\n",
    "\n",
    "quat = [0, 0, 0.3826834323650898, 0.9238795325112867]\n",
    "angle, axis = angle_axis_from_quaternion(quat)\n",
    "print(angle, axis)\n",
    "\n",
    "print(np.pi/4)"
   ]
  },
  {
   "cell_type": "code",
   "execution_count": null,
   "metadata": {},
   "outputs": [],
   "source": []
  },
  {
   "cell_type": "code",
   "execution_count": null,
   "metadata": {},
   "outputs": [],
   "source": []
  },
  {
   "cell_type": "code",
   "execution_count": null,
   "metadata": {},
   "outputs": [],
   "source": []
  },
  {
   "cell_type": "code",
   "execution_count": null,
   "metadata": {},
   "outputs": [],
   "source": []
  },
  {
   "cell_type": "code",
   "execution_count": null,
   "metadata": {},
   "outputs": [],
   "source": []
  },
  {
   "cell_type": "code",
   "execution_count": null,
   "metadata": {},
   "outputs": [],
   "source": []
  }
 ],
 "metadata": {
  "kernelspec": {
   "display_name": "manimgl_1.6.1",
   "language": "python",
   "name": "python3"
  },
  "language_info": {
   "codemirror_mode": {
    "name": "ipython",
    "version": 3
   },
   "file_extension": ".py",
   "mimetype": "text/x-python",
   "name": "python",
   "nbconvert_exporter": "python",
   "pygments_lexer": "ipython3",
   "version": "3.8.17"
  },
  "orig_nbformat": 4
 },
 "nbformat": 4,
 "nbformat_minor": 2
}
