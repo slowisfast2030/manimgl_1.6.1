{
 "cells": [
  {
   "cell_type": "code",
   "execution_count": 3,
   "metadata": {},
   "outputs": [
    {
     "name": "stdout",
     "output_type": "stream",
     "text": [
      "[[ 0.70710678 -0.70710678  0.        ]\n",
      " [ 0.70710678  0.70710678  0.        ]\n",
      " [ 0.          0.          1.        ]]\n",
      "\n",
      "\n",
      "[-1.11022302e-16  1.41421356e+00  0.00000000e+00]\n"
     ]
    }
   ],
   "source": [
    "import numpy as np\n",
    "from scipy.spatial.transform import Rotation\n",
    "\n",
    "\"\"\"\n",
    "矩阵乘法的几何意义: point或者vector的旋转和伸缩\n",
    "如果规定伸缩比例为1, 矩阵就是正交阵\n",
    "\n",
    "那么\n",
    "正交阵的几何意义: point或者vector的旋转\n",
    "\n",
    "问题:\n",
    "为了产生给定的旋转效果，怎么生成这个矩阵呢？\n",
    "空间中旋转需要两个参数: axis和angle\n",
    "\n",
    "\"\"\"\n",
    "def get_norm(vect) -> float:\n",
    "    return sum((x**2 for x in vect))**0.5\n",
    "\n",
    "def normalize(vect: np.ndarray, fall_back: np.ndarray = None) -> np.ndarray:\n",
    "    norm = get_norm(vect)\n",
    "    if norm > 0:\n",
    "        return np.array(vect) / norm\n",
    "    elif fall_back is not None:\n",
    "        return fall_back\n",
    "    else:\n",
    "        return np.zeros(len(vect))\n",
    "    \n",
    "def rotation_matrix(angle: float, axis: np.ndarray) -> np.ndarray:\n",
    "    \"\"\"\n",
    "    Rotation in R^3 about a specified axis of rotation.\n",
    "    \"\"\"\n",
    "    return Rotation.from_rotvec(angle * normalize(axis)).as_matrix()\n",
    "\n",
    "\n",
    "# Define the angle and axis parameters\n",
    "angle = np.pi / 4 # 45 degrees in radians\n",
    "axis = np.array([0, 0, 1]) # The z-axis\n",
    "\n",
    "# Call the rotation_matrix function\n",
    "rot_mat = rotation_matrix(angle, axis)\n",
    "\n",
    "# Print the result\n",
    "# 正交阵\n",
    "print(rot_mat)\n",
    "\n",
    "point = np.array([1, 1, 0])\n",
    "res = np.dot(point, rot_mat.T)\n",
    "\n",
    "print(\"\\n\")\n",
    "# 忽略精度问题，绕z轴旋转，可以发现(1, 1, 0) --> (0, 1.414, 0)\n",
    "# 绕着z轴逆时针旋转了45度\n",
    "print(res)"
   ]
  },
  {
   "cell_type": "code",
   "execution_count": 9,
   "metadata": {},
   "outputs": [
    {
     "name": "stdout",
     "output_type": "stream",
     "text": [
      "[[ 0.70710678 -0.70710678  0.        ]\n",
      " [ 0.70710678  0.70710678  0.        ]\n",
      " [ 0.          0.          1.        ]]\n",
      "\n",
      "\n",
      "[1. 1. 0.]\n"
     ]
    }
   ],
   "source": [
    "import numpy as np\n",
    "from scipy.spatial.transform import Rotation\n",
    "\n",
    "\"\"\"\n",
    "矩阵乘法的几何意义: point或者vector的旋转和伸缩\n",
    "如果规定伸缩比例为1, 矩阵就是正交阵\n",
    "\n",
    "那么\n",
    "正交阵的几何意义: point或者vector的旋转\n",
    "\n",
    "问题:\n",
    "为了产生给定的旋转效果，怎么生成这个矩阵呢？\n",
    "空间中旋转需要两个参数: axis和angle\n",
    "\n",
    "\"\"\"\n",
    "def get_norm(vect) -> float:\n",
    "    return sum((x**2 for x in vect))**0.5\n",
    "\n",
    "def normalize(vect: np.ndarray, fall_back: np.ndarray = None) -> np.ndarray:\n",
    "    norm = get_norm(vect)\n",
    "    if norm > 0:\n",
    "        return np.array(vect) / norm\n",
    "    elif fall_back is not None:\n",
    "        return fall_back\n",
    "    else:\n",
    "        return np.zeros(len(vect))\n",
    "    \n",
    "def rotation_matrix(angle: float, axis: np.ndarray) -> np.ndarray:\n",
    "    \"\"\"\n",
    "    Rotation in R^3 about a specified axis of rotation.\n",
    "    \"\"\"\n",
    "    return Rotation.from_rotvec(angle * normalize(axis)).as_matrix()\n",
    "\n",
    "\n",
    "# Define the angle and axis parameters\n",
    "angle = np.pi / 4 # 45 degrees in radians\n",
    "axis = np.array([0, 0, 1]) # The z-axis\n",
    "\n",
    "# Call the rotation_matrix function\n",
    "# 这里做了一个假设，axis经过原点！！！\n",
    "rot_mat = rotation_matrix(angle, axis)\n",
    "\n",
    "# Print the result\n",
    "# 正交阵\n",
    "print(rot_mat)\n",
    "\n",
    "point = np.array([1, 1, 0])\n",
    "\"\"\"\n",
    "个人感觉, 对于point的旋转需要3个参数\n",
    "axis, about_point, angle\n",
    "上面的axis仅仅给出了axis的方向, 并没有给出axis经过的点\n",
    "\n",
    "通过下面的方法\n",
    "可以实现绕通过给定点的轴旋转\n",
    "本质是平移\n",
    "\"\"\"\n",
    "about_point = np.array([1/2, 1/2, 0])\n",
    "about_point = np.array([1, 1, 0])\n",
    "\n",
    "res = np.dot(point - about_point, rot_mat.T)\n",
    "res += about_point\n",
    "\n",
    "print(\"\\n\")\n",
    "print(res)"
   ]
  },
  {
   "cell_type": "code",
   "execution_count": 11,
   "metadata": {},
   "outputs": [
    {
     "name": "stdout",
     "output_type": "stream",
     "text": [
      "[[ 0.70710678 -0.70710678  0.        ]\n",
      " [ 0.70710678  0.70710678  0.        ]\n",
      " [ 0.          0.          1.        ]]\n",
      "[0.         0.         0.38268343 0.92387953]\n"
     ]
    }
   ],
   "source": [
    "from scipy.spatial.transform import Rotation\n",
    "\n",
    "def quaternion_from_angle_axis(\n",
    "    angle: float,\n",
    "    axis: np.ndarray,\n",
    "):\n",
    "    return Rotation.from_rotvec(angle * normalize(axis)).as_quat()\n",
    "\n",
    "# Define the angle and axis parameters\n",
    "angle = np.pi / 4 # 45 degrees in radians\n",
    "axis = np.array([0, 0, 1]) # The z-axis\n",
    "\n",
    "# Call the rotation_matrix function\n",
    "# 这里做了一个假设，axis经过原点！！！\n",
    "rot_mat = rotation_matrix(angle, axis)\n",
    "\n",
    "# Print the result\n",
    "# 正交阵\n",
    "print(rot_mat)\n",
    "\n",
    "quaternion = quaternion_from_angle_axis(angle, axis) \n",
    "print(quaternion)"
   ]
  },
  {
   "cell_type": "code",
   "execution_count": 13,
   "metadata": {},
   "outputs": [
    {
     "name": "stdout",
     "output_type": "stream",
     "text": [
      "0.9238795325112867\n",
      "0.3826834323650898\n"
     ]
    }
   ],
   "source": [
    "import math\n",
    "import numpy as np\n",
    "print(math.cos(np.pi/8))\n",
    "print(math.sin(np.pi/8))"
   ]
  },
  {
   "cell_type": "code",
   "execution_count": 18,
   "metadata": {},
   "outputs": [
    {
     "name": "stdout",
     "output_type": "stream",
     "text": [
      "0.7853981633974484 [0. 0. 1.]\n",
      "0.7853981633974483\n"
     ]
    }
   ],
   "source": [
    "import numpy as np\n",
    "from scipy.spatial.transform import Rotation\n",
    "\n",
    "def angle_axis_from_quaternion(quat):\n",
    "    rot_vec = Rotation.from_quat(quat).as_rotvec()\n",
    "    norm = get_norm(rot_vec)\n",
    "    return norm, rot_vec / norm\n",
    "\n",
    "quat = [0, 0, 0.3826834323650898, 0.9238795325112867]\n",
    "angle, axis = angle_axis_from_quaternion(quat)\n",
    "print(angle, axis)\n",
    "\n",
    "print(np.pi/4)"
   ]
  },
  {
   "cell_type": "code",
   "execution_count": 19,
   "metadata": {},
   "outputs": [
    {
     "data": {
      "text/plain": [
       "array([0., 0., 0., 1.])"
      ]
     },
     "execution_count": 19,
     "metadata": {},
     "output_type": "execute_result"
    }
   ],
   "source": [
    "from scipy.spatial.transform import Rotation\n",
    "Rotation.identity().as_quat()"
   ]
  },
  {
   "cell_type": "code",
   "execution_count": 25,
   "metadata": {},
   "outputs": [
    {
     "data": {
      "text/plain": [
       "array([-2.,  0.,  0.])"
      ]
     },
     "execution_count": 25,
     "metadata": {},
     "output_type": "execute_result"
    }
   ],
   "source": [
    "import numpy as np\n",
    "def project_along_vector(point: np.ndarray, vector: np.ndarray) -> np.ndarray:\n",
    "    matrix = np.identity(3) - np.outer(vector, vector)\n",
    "    return np.dot(point, matrix.T)\n",
    "\n",
    "point = np.array([0, 2, 0])\n",
    "vector = np.array([1, 1, 0])\n",
    "project_along_vector(point, vector)\n"
   ]
  },
  {
   "cell_type": "code",
   "execution_count": 32,
   "metadata": {},
   "outputs": [
    {
     "name": "stderr",
     "output_type": "stream",
     "text": [
      "/var/folders/b0/f13r09ys4819g6vy91gl1_zr0000gn/T/ipykernel_30417/1786388265.py:27: UserWarning: Gimbal lock detected. Setting third angle to zero since it is not possible to uniquely determine all angles.\n",
      "  return get_orientation().as_euler(\"zxz\")[::-1]\n"
     ]
    },
    {
     "data": {
      "text/plain": [
       "array([0., 0., 0.])"
      ]
     },
     "execution_count": 32,
     "metadata": {},
     "output_type": "execute_result"
    }
   ],
   "source": [
    "from scipy.spatial.transform import Rotation\n",
    "\n",
    "uniforms = dict()\n",
    "uniforms[\"orientation\"] = Rotation.identity().as_quat()\n",
    "\n",
    "def get_orientation():\n",
    "    '''\n",
    "    获取相机旋转\n",
    "    '''\n",
    "    return Rotation.from_quat(uniforms[\"orientation\"])\n",
    "\n",
    "def get_inverse_camera_rotation_matrix():\n",
    "    return get_orientation().as_matrix().T\n",
    "\n",
    "def get_implied_camera_location() -> np.ndarray:\n",
    "    '''\n",
    "    获取相机的位置\n",
    "    '''\n",
    "    to_camera = get_inverse_camera_rotation_matrix()[2]\n",
    "    dist = 16\n",
    "    return dist * to_camera\n",
    "\n",
    "def get_euler_angles():\n",
    "        '''\n",
    "        获取相机的欧拉角\n",
    "        '''\n",
    "        return get_orientation().as_euler(\"zxz\")[::-1]\n",
    "\n",
    "rotation = get_inverse_camera_rotation_matrix()\n",
    "camera_rotation = tuple(np.array(rotation).T.flatten())\n",
    "rotation\n",
    "get_implied_camera_location()\n",
    "get_euler_angles()"
   ]
  },
  {
   "cell_type": "code",
   "execution_count": 1,
   "metadata": {},
   "outputs": [],
   "source": [
    "def quick_sort(arr):\n",
    "    # Base case: an empty or single-element array is already sorted\n",
    "    if len(arr) <= 1:\n",
    "        return arr\n",
    "\n",
    "    # Choose the pivot element (can be any element in the array)\n",
    "    pivot = arr[len(arr) // 2]\n",
    "\n",
    "    # Partition the array into two sub-arrays based on the pivot\n",
    "    smaller = [x for x in arr if x < pivot]\n",
    "    equal = [x for x in arr if x == pivot]\n",
    "    larger = [x for x in arr if x > pivot]\n",
    "\n",
    "    # Recursive calls to sort the sub-arrays\n",
    "    return quick_sort(smaller) + equal + quick_sort(larger)\n"
   ]
  },
  {
   "cell_type": "code",
   "execution_count": 1,
   "metadata": {},
   "outputs": [
    {
     "data": {
      "text/plain": [
       "[1, 2, 3, 4, 5]"
      ]
     },
     "execution_count": 1,
     "metadata": {},
     "output_type": "execute_result"
    }
   ],
   "source": [
    "[1,2,3] + [4,5]"
   ]
  },
  {
   "cell_type": "code",
   "execution_count": null,
   "metadata": {},
   "outputs": [],
   "source": []
  },
  {
   "cell_type": "code",
   "execution_count": 8,
   "metadata": {},
   "outputs": [
    {
     "data": {
      "text/plain": [
       "array([[1, 2, 3],\n",
       "       [4, 5, 6]])"
      ]
     },
     "execution_count": 8,
     "metadata": {},
     "output_type": "execute_result"
    }
   ],
   "source": [
    "import numpy as np\n",
    "\n",
    "points = np.array([[1,2,3], [4,5,6], [7,8,9]])\n",
    "np.resize(points, (2, 3))"
   ]
  },
  {
   "cell_type": "code",
   "execution_count": 9,
   "metadata": {},
   "outputs": [
    {
     "name": "stdout",
     "output_type": "stream",
     "text": [
      "[[1 2 3]\n",
      " [4 5 6]]\n"
     ]
    }
   ],
   "source": [
    "# Import numpy module\n",
    "import numpy as np\n",
    "\n",
    "# Create two input arrays\n",
    "a = np.array([1, 2, 3])\n",
    "b = np.array([4, 5, 6])\n",
    "\n",
    "# Stack them vertically using np.vstack\n",
    "c = np.vstack((a, b))\n",
    "\n",
    "# Print the output array\n",
    "print(c)"
   ]
  },
  {
   "cell_type": "code",
   "execution_count": 19,
   "metadata": {},
   "outputs": [
    {
     "name": "stdout",
     "output_type": "stream",
     "text": [
      "[[1 2 3]\n",
      " [4 5 6]\n",
      " [7 8 9]\n",
      " [1 2 3]\n",
      " [4 5 6]\n",
      " [7 8 9]]\n"
     ]
    }
   ],
   "source": [
    "# Import numpy module\n",
    "import numpy as np\n",
    "\n",
    "# Create two input arrays\n",
    "a = np.array([1, 2, 3])\n",
    "b = np.array([[4, 5, 6], [7,8,9]])\n",
    "c = np.array([[1, 2, 3], [4, 5, 6], [7,8,9]])\n",
    "\n",
    "# Stack them vertically using np.vstack\n",
    "d = np.vstack((a, b, c))\n",
    "\n",
    "# Print the output array\n",
    "print(d)"
   ]
  },
  {
   "cell_type": "code",
   "execution_count": 21,
   "metadata": {},
   "outputs": [
    {
     "data": {
      "text/plain": [
       "array([1, 1, 1])"
      ]
     },
     "execution_count": 21,
     "metadata": {},
     "output_type": "execute_result"
    }
   ],
   "source": [
    "import numpy as np\n",
    "(np.sign([0,0,0]) + 1).astype(int)"
   ]
  },
  {
   "cell_type": "code",
   "execution_count": 28,
   "metadata": {},
   "outputs": [
    {
     "name": "stdout",
     "output_type": "stream",
     "text": [
      "[[19 22]\n",
      " [43 50]]\n"
     ]
    }
   ],
   "source": [
    "import numpy as np\n",
    "\n",
    "points = np.array([[1, 2],\n",
    "                    [3, 4]])\n",
    "\n",
    "matrix = np.array([[5, 6],\n",
    "                    [7, 8]])\n",
    "\n",
    "result = np.dot(points, matrix)\n",
    "\n",
    "print(result)"
   ]
  },
  {
   "cell_type": "code",
   "execution_count": 29,
   "metadata": {},
   "outputs": [
    {
     "name": "stdout",
     "output_type": "stream",
     "text": [
      "[19 22]\n"
     ]
    }
   ],
   "source": [
    "import numpy as np\n",
    "\n",
    "point = np.array([1, 2])\n",
    "\n",
    "matrix = np.array([[5, 6],\n",
    "                    [7, 8]])\n",
    "\n",
    "result = np.dot(point, matrix)\n",
    "\n",
    "print(result)"
   ]
  },
  {
   "cell_type": "code",
   "execution_count": 6,
   "metadata": {},
   "outputs": [
    {
     "data": {
      "text/plain": [
       "array([[2, 3, 4],\n",
       "       [5, 6, 7]])"
      ]
     },
     "execution_count": 6,
     "metadata": {},
     "output_type": "execute_result"
    }
   ],
   "source": [
    "\n",
    "import numpy as np\n",
    "np.array([[1,2,3],[4,5,6]]) + np.array([1,1,1])"
   ]
  },
  {
   "cell_type": "code",
   "execution_count": 13,
   "metadata": {},
   "outputs": [
    {
     "data": {
      "text/plain": [
       "array([[2, 3, 4],\n",
       "       [5, 6, 7]])"
      ]
     },
     "execution_count": 13,
     "metadata": {},
     "output_type": "execute_result"
    }
   ],
   "source": [
    "\n",
    "import numpy as np\n",
    "np.array([[1,2,3],[4,5,6]]) + np.array([[1],[1]])"
   ]
  },
  {
   "cell_type": "code",
   "execution_count": 2,
   "metadata": {},
   "outputs": [
    {
     "data": {
      "text/plain": [
       "(3,)"
      ]
     },
     "execution_count": 2,
     "metadata": {},
     "output_type": "execute_result"
    }
   ],
   "source": [
    "import numpy as np\n",
    "a = np.array([1,2,3])\n",
    "a.shape"
   ]
  },
  {
   "cell_type": "code",
   "execution_count": null,
   "metadata": {},
   "outputs": [],
   "source": []
  },
  {
   "cell_type": "code",
   "execution_count": 1,
   "metadata": {},
   "outputs": [
    {
     "data": {
      "text/plain": [
       "array([[ 2,  4,  6],\n",
       "       [ 8, 10, 12]])"
      ]
     },
     "execution_count": 1,
     "metadata": {},
     "output_type": "execute_result"
    }
   ],
   "source": [
    "\n",
    "import numpy as np\n",
    "np.array([[1,2,3],[4,5,6]]) * 2"
   ]
  },
  {
   "cell_type": "code",
   "execution_count": 33,
   "metadata": {},
   "outputs": [
    {
     "name": "stdout",
     "output_type": "stream",
     "text": [
      "all is well\n",
      "John\n",
      "all is well\n",
      "30\n"
     ]
    }
   ],
   "source": [
    "class CustomObject:\n",
    "    def __init__(self):\n",
    "        self.data = {'name': 'John', 'age': 30}\n",
    "\n",
    "    def __getattr__(self, name):\n",
    "        print(\"all is well\")\n",
    "        if name in self.data:\n",
    "            return self.data[name]\n",
    "        else:\n",
    "            raise AttributeError(f\"'CustomObject' object has no attribute '{name}'\")\n",
    "\n",
    "# Create an instance of the CustomObject class\n",
    "obj = CustomObject()\n",
    "\n",
    "# Access existing attributes\n",
    "print(obj.name)  # Output: John\n",
    "print(obj.age)   # Output: 30\n",
    "\n",
    "# Access a non-existing attribute\n",
    "#print(obj.address)  # This will raise an AttributeError\n"
   ]
  },
  {
   "cell_type": "code",
   "execution_count": 5,
   "metadata": {},
   "outputs": [
    {
     "data": {
      "text/plain": [
       "array([[3., 0., 0.],\n",
       "       [0., 3., 0.],\n",
       "       [0., 0., 3.]])"
      ]
     },
     "execution_count": 5,
     "metadata": {},
     "output_type": "execute_result"
    }
   ],
   "source": [
    "import numpy as np\n",
    "np.identity(3)*3"
   ]
  },
  {
   "cell_type": "code",
   "execution_count": 1,
   "metadata": {},
   "outputs": [
    {
     "data": {
      "text/plain": [
       "array([2., 4., 6.])"
      ]
     },
     "execution_count": 1,
     "metadata": {},
     "output_type": "execute_result"
    }
   ],
   "source": [
    "import numpy as np\n",
    "a = np.array([1,2,3])\n",
    "b = np.array([1.0, 2.0, 3.0])\n",
    "a+b"
   ]
  },
  {
   "cell_type": "code",
   "execution_count": 2,
   "metadata": {},
   "outputs": [
    {
     "data": {
      "text/plain": [
       "array([[ 9.1, 18.2, 27.3],\n",
       "       [36.4, 45.5, 54.6]])"
      ]
     },
     "execution_count": 2,
     "metadata": {},
     "output_type": "execute_result"
    }
   ],
   "source": [
    "import numpy as np\n",
    "a = np.array([[1,2,3], [4,5,6]])\n",
    "b = np.array([[10,20,30], [40,50,60]])\n",
    "0.1*a + 0.9*b\n"
   ]
  },
  {
   "cell_type": "code",
   "execution_count": 1,
   "metadata": {},
   "outputs": [
    {
     "name": "stdout",
     "output_type": "stream",
     "text": [
      "0\n",
      "3\n",
      "6\n",
      "9\n"
     ]
    }
   ],
   "source": [
    "\n",
    "for i in range(0, 10, 3):\n",
    "    print(i)"
   ]
  },
  {
   "cell_type": "code",
   "execution_count": 15,
   "metadata": {},
   "outputs": [
    {
     "name": "stdout",
     "output_type": "stream",
     "text": [
      "[[6.  3. ]\n",
      " [2.  4.5]\n",
      " [1.  1. ]]\n"
     ]
    }
   ],
   "source": [
    "import numpy as np\n",
    "\n",
    "arr1 = np.array([[6, 6], [2, 9], [1, 2]])\n",
    "arr2 = np.array([[2, 3], [4, 3], [6, 7]])\n",
    "\n",
    "out = np.true_divide(arr1, arr2)\n",
    "print(out)"
   ]
  },
  {
   "cell_type": "code",
   "execution_count": 9,
   "metadata": {},
   "outputs": [
    {
     "data": {
      "text/plain": [
       "array([ 6,  7,  8,  9, 10])"
      ]
     },
     "execution_count": 9,
     "metadata": {},
     "output_type": "execute_result"
    }
   ],
   "source": [
    "import numpy as np\n",
    "\n",
    "data = {\"unit_normal\": np.array([1, 2, 3, 4, 5])}\n",
    "normal = np.array([6, 7, 8, 9, 10])\n",
    "data[\"unit_normal\"][:] = normal\n",
    "normal[0] = 1\n",
    "\n",
    "data[\"unit_normal\"]"
   ]
  },
  {
   "cell_type": "code",
   "execution_count": 8,
   "metadata": {},
   "outputs": [
    {
     "data": {
      "text/plain": [
       "array([ 1,  7,  8,  9, 10])"
      ]
     },
     "execution_count": 8,
     "metadata": {},
     "output_type": "execute_result"
    }
   ],
   "source": [
    "import numpy as np\n",
    "\n",
    "data = {\"unit_normal\": np.array([1, 2, 3, 4, 5])}\n",
    "normal = np.array([6, 7, 8, 9, 10])\n",
    "data[\"unit_normal\"] = normal\n",
    "normal[0] = 1\n",
    "\n",
    "data[\"unit_normal\"]"
   ]
  },
  {
   "cell_type": "code",
   "execution_count": 3,
   "metadata": {},
   "outputs": [
    {
     "data": {
      "text/plain": [
       "1"
      ]
     },
     "execution_count": 3,
     "metadata": {},
     "output_type": "execute_result"
    }
   ],
   "source": [
    "7 % 3\n"
   ]
  },
  {
   "cell_type": "code",
   "execution_count": 20,
   "metadata": {},
   "outputs": [
    {
     "data": {
      "text/plain": [
       "array([111, 111, 111,   3,   4,   5, 222, 222, 222])"
      ]
     },
     "execution_count": 20,
     "metadata": {},
     "output_type": "execute_result"
    }
   ],
   "source": [
    "import numpy as np\n",
    "a = np.array(list(range(9)))\n",
    "\n",
    "a[0:3] = 111\n",
    "a[6:] = 222\n",
    "a"
   ]
  },
  {
   "cell_type": "code",
   "execution_count": 1,
   "metadata": {},
   "outputs": [
    {
     "name": "stdout",
     "output_type": "stream",
     "text": [
      "0.0\n",
      "0.5\n",
      "1.0\n"
     ]
    }
   ],
   "source": [
    "\n",
    "import numpy as np\n",
    "for a in np.linspace(0, 1, 3):\n",
    "    print(a)"
   ]
  },
  {
   "cell_type": "code",
   "execution_count": 3,
   "metadata": {},
   "outputs": [
    {
     "name": "stdout",
     "output_type": "stream",
     "text": [
      "(1, 'a')\n",
      "(1, 'b')\n",
      "(2, 'a')\n",
      "(2, 'b')\n"
     ]
    }
   ],
   "source": [
    "import itertools\n",
    "\n",
    "# Finding the Cartesian product of two lists\n",
    "list1 = [1, 2]\n",
    "list2 = ['a', 'b']\n",
    "\n",
    "product_result = itertools.product(list1, list2)\n",
    "#print(product_result)\n",
    "\n",
    "# Iterating over the product and printing the combinations\n",
    "for combination in product_result:\n",
    "    print(combination)\n"
   ]
  },
  {
   "cell_type": "code",
   "execution_count": 1,
   "metadata": {},
   "outputs": [
    {
     "data": {
      "text/plain": [
       "array([[0.]])"
      ]
     },
     "execution_count": 1,
     "metadata": {},
     "output_type": "execute_result"
    }
   ],
   "source": [
    "import numpy as np\n",
    "np.zeros((1, 1))"
   ]
  },
  {
   "cell_type": "code",
   "execution_count": 8,
   "metadata": {},
   "outputs": [
    {
     "data": {
      "text/plain": [
       "array([[1. , 2. , 3. ],\n",
       "       [1.6, 2.6, 3.6],\n",
       "       [2.2, 3.2, 4.2],\n",
       "       [2.8, 3.8, 4.8],\n",
       "       [3.4, 4.4, 5.4],\n",
       "       [4. , 5. , 6. ]])"
      ]
     },
     "execution_count": 8,
     "metadata": {},
     "output_type": "execute_result"
    }
   ],
   "source": [
    "import numpy as np  \n",
    "\n",
    "def resize_with_interpolation(nparray: np.ndarray, length: int) -> np.ndarray:\n",
    "    if len(nparray) == length:\n",
    "        return nparray\n",
    "    if length == 0:\n",
    "        return np.zeros((0, *nparray.shape[1:]))\n",
    "    cont_indices = np.linspace(0, len(nparray) - 1, length)\n",
    "    return np.array([\n",
    "        (1 - a) * nparray[lh] + a * nparray[rh]\n",
    "        for ci in cont_indices\n",
    "        for lh, rh, a in [(int(ci), int(np.ceil(ci)), ci % 1)]\n",
    "    ])\n",
    "\n",
    "points = np.array([[1,2,3], [4,5,6]])\n",
    "resize_with_interpolation(points, 6)"
   ]
  },
  {
   "cell_type": "code",
   "execution_count": 10,
   "metadata": {},
   "outputs": [
    {
     "data": {
      "text/plain": [
       "3"
      ]
     },
     "execution_count": 10,
     "metadata": {},
     "output_type": "execute_result"
    }
   ],
   "source": [
    "10//3"
   ]
  },
  {
   "cell_type": "code",
   "execution_count": null,
   "metadata": {},
   "outputs": [],
   "source": []
  },
  {
   "cell_type": "code",
   "execution_count": null,
   "metadata": {},
   "outputs": [],
   "source": []
  },
  {
   "cell_type": "code",
   "execution_count": null,
   "metadata": {},
   "outputs": [],
   "source": []
  },
  {
   "cell_type": "code",
   "execution_count": null,
   "metadata": {},
   "outputs": [],
   "source": []
  },
  {
   "cell_type": "code",
   "execution_count": null,
   "metadata": {},
   "outputs": [],
   "source": []
  }
 ],
 "metadata": {
  "kernelspec": {
   "display_name": "manimgl_1.6.1",
   "language": "python",
   "name": "python3"
  },
  "language_info": {
   "codemirror_mode": {
    "name": "ipython",
    "version": 3
   },
   "file_extension": ".py",
   "mimetype": "text/x-python",
   "name": "python",
   "nbconvert_exporter": "python",
   "pygments_lexer": "ipython3",
   "version": "3.9.12"
  },
  "orig_nbformat": 4
 },
 "nbformat": 4,
 "nbformat_minor": 2
}
