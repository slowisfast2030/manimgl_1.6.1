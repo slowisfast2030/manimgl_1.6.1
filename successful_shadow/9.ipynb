{
 "cells": [
  {
   "cell_type": "code",
   "execution_count": 2,
   "metadata": {},
   "outputs": [
    {
     "name": "stdout",
     "output_type": "stream",
     "text": [
      "[[ 0.70710678 -0.70710678  0.        ]\n",
      " [ 0.70710678  0.70710678  0.        ]\n",
      " [ 0.          0.          1.        ]]\n",
      "\n",
      "\n",
      "[-1.11022302e-16  1.41421356e+00  0.00000000e+00]\n"
     ]
    }
   ],
   "source": [
    "import numpy as np\n",
    "from scipy.spatial.transform import Rotation\n",
    "\n",
    "def get_norm(vect) -> float:\n",
    "    return sum((x**2 for x in vect))**0.5\n",
    "\n",
    "def normalize(vect: np.ndarray, fall_back: np.ndarray = None) -> np.ndarray:\n",
    "    norm = get_norm(vect)\n",
    "    if norm > 0:\n",
    "        return np.array(vect) / norm\n",
    "    elif fall_back is not None:\n",
    "        return fall_back\n",
    "    else:\n",
    "        return np.zeros(len(vect))\n",
    "    \n",
    "def rotation_matrix(angle: float, axis: np.ndarray) -> np.ndarray:\n",
    "    \"\"\"\n",
    "    Rotation in R^3 about a specified axis of rotation.\n",
    "    \"\"\"\n",
    "    return Rotation.from_rotvec(angle * normalize(axis)).as_matrix()\n",
    "\n",
    "\n",
    "# Define the angle and axis parameters\n",
    "angle = np.pi / 4 # 45 degrees in radians\n",
    "axis = np.array([0, 0, 1]) # The z-axis\n",
    "\n",
    "# Call the rotation_matrix function\n",
    "rot_mat = rotation_matrix(angle, axis)\n",
    "\n",
    "# Print the result\n",
    "# 正交阵\n",
    "print(rot_mat)\n",
    "\n",
    "point = np.array([1, 1, 0])\n",
    "res = np.dot(point, rot_mat.T)\n",
    "\n",
    "print(\"\\n\")\n",
    "# 忽略精度问题，可以发现(1, 1, 0) --> (0, 1.414, 0)\n",
    "# 绕着z轴逆时针旋转了45度\n",
    "print(res)"
   ]
  },
  {
   "cell_type": "code",
   "execution_count": null,
   "metadata": {},
   "outputs": [],
   "source": []
  },
  {
   "cell_type": "code",
   "execution_count": null,
   "metadata": {},
   "outputs": [],
   "source": []
  },
  {
   "cell_type": "code",
   "execution_count": null,
   "metadata": {},
   "outputs": [],
   "source": []
  },
  {
   "cell_type": "code",
   "execution_count": null,
   "metadata": {},
   "outputs": [],
   "source": []
  },
  {
   "cell_type": "code",
   "execution_count": null,
   "metadata": {},
   "outputs": [],
   "source": []
  },
  {
   "cell_type": "code",
   "execution_count": null,
   "metadata": {},
   "outputs": [],
   "source": []
  },
  {
   "cell_type": "code",
   "execution_count": null,
   "metadata": {},
   "outputs": [],
   "source": []
  },
  {
   "cell_type": "code",
   "execution_count": null,
   "metadata": {},
   "outputs": [],
   "source": []
  },
  {
   "cell_type": "code",
   "execution_count": null,
   "metadata": {},
   "outputs": [],
   "source": []
  },
  {
   "cell_type": "code",
   "execution_count": null,
   "metadata": {},
   "outputs": [],
   "source": []
  }
 ],
 "metadata": {
  "kernelspec": {
   "display_name": "manimgl_1.6.1",
   "language": "python",
   "name": "python3"
  },
  "language_info": {
   "codemirror_mode": {
    "name": "ipython",
    "version": 3
   },
   "file_extension": ".py",
   "mimetype": "text/x-python",
   "name": "python",
   "nbconvert_exporter": "python",
   "pygments_lexer": "ipython3",
   "version": "3.8.17"
  },
  "orig_nbformat": 4
 },
 "nbformat": 4,
 "nbformat_minor": 2
}
