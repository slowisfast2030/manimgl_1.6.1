{
 "cells": [
  {
   "cell_type": "code",
   "execution_count": 2,
   "metadata": {},
   "outputs": [
    {
     "data": {
      "text/plain": [
       "array([ 1.  ,  1.  , -0.01])"
      ]
     },
     "execution_count": 2,
     "metadata": {},
     "output_type": "execute_result"
    }
   ],
   "source": [
    "import numpy as np\n",
    "\n",
    "def project_to_xy_plane(p1, p2):\n",
    "    \"\"\"\n",
    "    如何理解这个函数？\n",
    "    函数目的: 求出从p1到p2的直线与xy平面的交点\n",
    "\n",
    "    为了方便讨论, 假设p1和p2在xoy平面的上方, 且p1在p2之上\n",
    "    vect是一条从p1指向p2的向量\n",
    "    (z2 / vect[2]) * vect也就是\n",
    "    (z1 / (z2-z1)) * vect, 就是把vect向量延长z1/(z1-z2)倍, 且取反方向\n",
    "    从几何角度来看, 延长后的向量的起点(因为取反)恰好在xoy平面上\n",
    "    假设起点为p3\n",
    "    那么延长后的向量(z1 / (z1-z2)) * vect = p1 - p3\n",
    "    进而: p3 = p1 - (p1 - p3)\n",
    "    \"\"\"\n",
    "    x1, y1, z1 = p1\n",
    "    x2, y2, z2 = p2\n",
    "    if z2 < z1:\n",
    "        z2 = z1 + 1e-2  # TODO, bad hack\n",
    "    vect = p2 - p1\n",
    "    return p1 - (z2 / vect[2]) * vect\n",
    "    \n",
    "\n",
    "p1 = np.array([1, 1, 3])\n",
    "p2 = np.array([1, 1, 2])\n",
    "project_to_xy_plane(p1, p2)"
   ]
  },
  {
   "cell_type": "code",
   "execution_count": 4,
   "metadata": {},
   "outputs": [
    {
     "data": {
      "text/plain": [
       "array([1., 1., 0.])"
      ]
     },
     "execution_count": 4,
     "metadata": {},
     "output_type": "execute_result"
    }
   ],
   "source": [
    "import numpy as np\n",
    "\n",
    "def project_to_xy_plane(p1, p2):\n",
    "    \"\"\"\n",
    "    如何理解这个函数？\n",
    "    函数目的: 求出从p1到p2的直线与xy平面的交点\n",
    "\n",
    "    为了方便讨论, 假设p1和p2在xoy平面的上方, 且p1在p2之上\n",
    "    vect是一条从p1指向p2的向量\n",
    "    (z2 / vect[2]) * vect也就是\n",
    "    (z1 / (z2-z1)) * vect, 就是把vect向量延长z1/(z1-z2)倍, 且取反方向\n",
    "    从几何角度来看, 延长后的向量的起点(因为取反)恰好在xoy平面上\n",
    "    假设起点为p3\n",
    "    那么延长后的向量(z1 / (z1-z2)) * vect = p1 - p3\n",
    "    进而: p3 = p1 - (p1 - p3)\n",
    "    \"\"\"\n",
    "    x1, y1, z1 = p1\n",
    "    x2, y2, z2 = p2\n",
    "    vect = p2 - p1\n",
    "    return p1 - (z1 / vect[2]) * vect\n",
    "    \n",
    "p1 = np.array([1, 1, 3])\n",
    "p2 = np.array([1, 1, 2])\n",
    "project_to_xy_plane(p1, p2)"
   ]
  },
  {
   "cell_type": "code",
   "execution_count": 5,
   "metadata": {},
   "outputs": [
    {
     "name": "stdout",
     "output_type": "stream",
     "text": [
      "Result along axis 0: [12 15 18]\n",
      "Result along axis 1: [ 6 15 24]\n"
     ]
    }
   ],
   "source": [
    "import numpy as np\n",
    "\n",
    "data = np.array([[1, 2, 3],\n",
    "                 [4, 5, 6],\n",
    "                 [7, 8, 9]])\n",
    "\n",
    "def custom_function(arr):\n",
    "    return np.sum(arr)\n",
    "\n",
    "result_axis_0 = np.apply_along_axis(custom_function, axis=0, arr=data)\n",
    "result_axis_1 = np.apply_along_axis(custom_function, axis=1, arr=data)\n",
    "\n",
    "print(\"Result along axis 0:\", result_axis_0)\n",
    "print(\"Result along axis 1:\", result_axis_1)\n"
   ]
  },
  {
   "cell_type": "code",
   "execution_count": 18,
   "metadata": {},
   "outputs": [
    {
     "ename": "ValueError",
     "evalue": "setting an array element with a sequence. The requested array has an inhomogeneous shape after 1 dimensions. The detected shape was (10,) + inhomogeneous part.",
     "output_type": "error",
     "traceback": [
      "\u001b[0;31m---------------------------------------------------------------------------\u001b[0m",
      "\u001b[0;31mValueError\u001b[0m                                Traceback (most recent call last)",
      "Cell \u001b[0;32mIn[18], line 8\u001b[0m\n\u001b[1;32m      5\u001b[0m v_range \u001b[39m=\u001b[39m \u001b[39mrange\u001b[39m(\u001b[39m0\u001b[39m, \u001b[39m10\u001b[39m, \u001b[39m1\u001b[39m)\n\u001b[1;32m      7\u001b[0m \u001b[39m# Use nested list comprehension and conditional statement to generate the result\u001b[39;00m\n\u001b[0;32m----> 8\u001b[0m result \u001b[39m=\u001b[39m np\u001b[39m.\u001b[39;49marray([[[u, v] \u001b[39mfor\u001b[39;49;00m v \u001b[39min\u001b[39;49;00m v_range \u001b[39mif\u001b[39;49;00m u \u001b[39m+\u001b[39;49m v \u001b[39m<\u001b[39;49m \u001b[39m10\u001b[39;49m] \u001b[39mfor\u001b[39;49;00m u \u001b[39min\u001b[39;49;00m u_range])\n\u001b[1;32m     10\u001b[0m \u001b[39m# Print the result\u001b[39;00m\n\u001b[1;32m     11\u001b[0m \u001b[39mfor\u001b[39;00m row \u001b[39min\u001b[39;00m result:\n",
      "\u001b[0;31mValueError\u001b[0m: setting an array element with a sequence. The requested array has an inhomogeneous shape after 1 dimensions. The detected shape was (10,) + inhomogeneous part."
     ]
    }
   ],
   "source": [
    "import numpy as np\n",
    "\n",
    "# Define u_range and v_range\n",
    "u_range = range(0, 10, 1)\n",
    "v_range = range(0, 10, 1)\n",
    "\n",
    "# Use nested list comprehension and conditional statement to generate the result\n",
    "result = np.array([[[u, v] for v in v_range if u + v < 10] for u in u_range])\n",
    "\n",
    "# Print the result\n",
    "for row in result:\n",
    "    print(row)\n"
   ]
  },
  {
   "cell_type": "code",
   "execution_count": 19,
   "metadata": {},
   "outputs": [
    {
     "name": "stdout",
     "output_type": "stream",
     "text": [
      "[[0, 0], [0, 1], [0, 2], [0, 3], [0, 4], [0, 5], [0, 6], [0, 7], [0, 8], [0, 9]]\n",
      "[[1, 0], [1, 1], [1, 2], [1, 3], [1, 4], [1, 5], [1, 6], [1, 7], [1, 8]]\n",
      "[[2, 0], [2, 1], [2, 2], [2, 3], [2, 4], [2, 5], [2, 6], [2, 7]]\n",
      "[[3, 0], [3, 1], [3, 2], [3, 3], [3, 4], [3, 5], [3, 6]]\n",
      "[[4, 0], [4, 1], [4, 2], [4, 3], [4, 4], [4, 5]]\n",
      "[[5, 0], [5, 1], [5, 2], [5, 3], [5, 4]]\n",
      "[[6, 0], [6, 1], [6, 2], [6, 3]]\n",
      "[[7, 0], [7, 1], [7, 2]]\n",
      "[[8, 0], [8, 1]]\n",
      "[[9, 0]]\n"
     ]
    }
   ],
   "source": [
    "import numpy as np\n",
    "\n",
    "# Define u_range and v_range\n",
    "u_range = range(0, 10, 1)\n",
    "v_range = range(0, 10, 1)\n",
    "\n",
    "# Use nested list comprehension and conditional statement to generate the result\n",
    "result = [[[u, v] for v in v_range if u + v < 10] for u in u_range]\n",
    "\n",
    "# Convert the result to a regular Python list\n",
    "result = list(result)\n",
    "\n",
    "# Print the result\n",
    "for row in result:\n",
    "    print(row)\n"
   ]
  },
  {
   "cell_type": "code",
   "execution_count": 11,
   "metadata": {},
   "outputs": [
    {
     "data": {
      "text/plain": [
       "[0, 1, 2, 3, 4, 5, 6, 7, 8, 9]"
      ]
     },
     "execution_count": 11,
     "metadata": {},
     "output_type": "execute_result"
    }
   ],
   "source": [
    "u_range = list(range(0, 10, 1))\n",
    "u_range"
   ]
  }
 ],
 "metadata": {
  "kernelspec": {
   "display_name": "manimgl_1.6.1",
   "language": "python",
   "name": "python3"
  },
  "language_info": {
   "codemirror_mode": {
    "name": "ipython",
    "version": 3
   },
   "file_extension": ".py",
   "mimetype": "text/x-python",
   "name": "python",
   "nbconvert_exporter": "python",
   "pygments_lexer": "ipython3",
   "version": "3.8.17"
  },
  "orig_nbformat": 4
 },
 "nbformat": 4,
 "nbformat_minor": 2
}
