{
 "cells": [
  {
   "cell_type": "code",
   "execution_count": 13,
   "metadata": {},
   "outputs": [
    {
     "name": "stdout",
     "output_type": "stream",
     "text": [
      "[[ 0.70710678 -0.70710678  0.        ]\n",
      " [ 0.70710678  0.70710678  0.        ]\n",
      " [ 0.          0.          1.        ]]\n",
      "[-1.11022302e-16  1.41421356e+00  0.00000000e+00]\n"
     ]
    }
   ],
   "source": [
    "import numpy as np\n",
    "from scipy.spatial.transform import Rotation\n",
    "\n",
    "def get_norm(vect) -> float:\n",
    "    return sum((x**2 for x in vect))**0.5\n",
    "\n",
    "def normalize(vect: np.ndarray, fall_back: np.ndarray = None) -> np.ndarray:\n",
    "    norm = get_norm(vect)\n",
    "    if norm > 0:\n",
    "        return np.array(vect) / norm\n",
    "    elif fall_back is not None:\n",
    "        return fall_back\n",
    "    else:\n",
    "        return np.zeros(len(vect))\n",
    "    \n",
    "def rotation_matrix(angle: float, axis: np.ndarray) -> np.ndarray:\n",
    "    \"\"\"\n",
    "    Rotation in R^3 about a specified axis of rotation.\n",
    "    \"\"\"\n",
    "    return Rotation.from_rotvec(angle * normalize(axis)).as_matrix()\n",
    "\n",
    "\n",
    "# Define the angle and axis parameters\n",
    "angle = np.pi / 4 # 45 degrees in radians\n",
    "axis = np.array([0, 0, 1]) # The z-axis\n",
    "\n",
    "# Call the rotation_matrix function\n",
    "rot_mat = rotation_matrix(angle, axis)\n",
    "\n",
    "# Print the result\n",
    "# 正交阵\n",
    "print(rot_mat)\n",
    "\n",
    "point = np.array([1, 1, 0])\n",
    "res = np.dot(point, rot_mat.T)\n",
    "# 忽略精度问题，可以发现(1, 1, 0) --> (0, 1.414, 0)\n",
    "# 绕着z轴逆时针旋转了45度\n",
    "print(res)"
   ]
  },
  {
   "cell_type": "code",
   "execution_count": null,
   "metadata": {},
   "outputs": [],
   "source": []
  },
  {
   "cell_type": "code",
   "execution_count": null,
   "metadata": {},
   "outputs": [],
   "source": []
  },
  {
   "cell_type": "code",
   "execution_count": null,
   "metadata": {},
   "outputs": [],
   "source": []
  },
  {
   "cell_type": "code",
   "execution_count": null,
   "metadata": {},
   "outputs": [],
   "source": []
  },
  {
   "cell_type": "code",
   "execution_count": null,
   "metadata": {},
   "outputs": [],
   "source": []
  },
  {
   "cell_type": "code",
   "execution_count": null,
   "metadata": {},
   "outputs": [],
   "source": []
  },
  {
   "cell_type": "code",
   "execution_count": null,
   "metadata": {},
   "outputs": [],
   "source": []
  },
  {
   "cell_type": "code",
   "execution_count": 2,
   "metadata": {},
   "outputs": [
    {
     "data": {
      "text/plain": [
       "array([[   0,    1,    2, ...,   48,   49,   50],\n",
       "       [  51,   52,   53, ...,   99,  100,  101],\n",
       "       [ 102,  103,  104, ...,  150,  151,  152],\n",
       "       ...,\n",
       "       [4998, 4999, 5000, ..., 5046, 5047, 5048],\n",
       "       [5049, 5050, 5051, ..., 5097, 5098, 5099],\n",
       "       [5100, 5101, 5102, ..., 5148, 5149, 5150]])"
      ]
     },
     "execution_count": 2,
     "metadata": {},
     "output_type": "execute_result"
    }
   ],
   "source": [
    "import numpy as np\n",
    "nu = 101\n",
    "nv = 51\n",
    "\n",
    "index_grid = np.arange(nu * nv).reshape((nu, nv))\n",
    "index_grid"
   ]
  },
  {
   "cell_type": "code",
   "execution_count": 4,
   "metadata": {},
   "outputs": [
    {
     "name": "stdout",
     "output_type": "stream",
     "text": [
      "[0 0 0 ... 0 0 0]\n",
      "30000\n"
     ]
    }
   ],
   "source": [
    "import numpy as np\n",
    "nu = 101\n",
    "nv = 51\n",
    "\n",
    "indices = np.zeros(6 * (nu - 1) * (nv - 1), dtype=int)\n",
    "print(indices)\n",
    "print(len(indices))"
   ]
  },
  {
   "cell_type": "code",
   "execution_count": 13,
   "metadata": {},
   "outputs": [
    {
     "data": {
      "text/plain": [
       "array([[   0,    1,    2, ...,   47,   48,   49],\n",
       "       [  51,   52,   53, ...,   98,   99,  100],\n",
       "       [ 102,  103,  104, ...,  149,  150,  151],\n",
       "       ...,\n",
       "       [4947, 4948, 4949, ..., 4994, 4995, 4996],\n",
       "       [4998, 4999, 5000, ..., 5045, 5046, 5047],\n",
       "       [5049, 5050, 5051, ..., 5096, 5097, 5098]])"
      ]
     },
     "execution_count": 13,
     "metadata": {},
     "output_type": "execute_result"
    }
   ],
   "source": [
    "import numpy as np\n",
    "nu = 101\n",
    "nv = 51\n",
    "\n",
    "index_grid = np.arange(nu * nv).reshape((nu, nv))\n",
    "indices = np.zeros(6 * (nu - 1) * (nv - 1), dtype=int)\n",
    "\n",
    "index_grid[:-1, :-1]"
   ]
  },
  {
   "cell_type": "code",
   "execution_count": 15,
   "metadata": {},
   "outputs": [],
   "source": [
    "import numpy as np\n",
    "nu = 101\n",
    "nv = 51\n",
    "\n",
    "index_grid = np.arange(nu * nv).reshape((nu, nv))\n",
    "indices = np.zeros(6 * (nu - 1) * (nv - 1), dtype=int)\n",
    "\n",
    "indices[0::6] = index_grid[:-1, :-1].flatten()  # Top left\n",
    "indices[1::6] = index_grid[+1:, :-1].flatten()  # Bottom left\n",
    "indices[2::6] = index_grid[:-1, +1:].flatten()  # Top right\n",
    "indices[3::6] = index_grid[:-1, +1:].flatten()  # Top right\n",
    "indices[4::6] = index_grid[+1:, :-1].flatten()  # Bottom left\n",
    "indices[5::6] = index_grid[+1:, +1:].flatten()  # Bottom right\n",
    "\n"
   ]
  },
  {
   "cell_type": "code",
   "execution_count": 22,
   "metadata": {},
   "outputs": [
    {
     "data": {
      "text/plain": [
       "array([ 0, 51,  1,  1, 51, 52,  1, 52,  2,  2, 52, 53,  2, 53,  3,  3, 53,\n",
       "       54])"
      ]
     },
     "execution_count": 22,
     "metadata": {},
     "output_type": "execute_result"
    }
   ],
   "source": [
    "indices[:18]"
   ]
  },
  {
   "cell_type": "code",
   "execution_count": null,
   "metadata": {},
   "outputs": [],
   "source": []
  },
  {
   "cell_type": "code",
   "execution_count": null,
   "metadata": {},
   "outputs": [],
   "source": []
  },
  {
   "cell_type": "code",
   "execution_count": null,
   "metadata": {},
   "outputs": [],
   "source": []
  },
  {
   "cell_type": "code",
   "execution_count": null,
   "metadata": {},
   "outputs": [],
   "source": []
  },
  {
   "cell_type": "code",
   "execution_count": 4,
   "metadata": {},
   "outputs": [
    {
     "data": {
      "text/plain": [
       "3"
      ]
     },
     "execution_count": 4,
     "metadata": {},
     "output_type": "execute_result"
    }
   ],
   "source": [
    "10 // 3\n"
   ]
  },
  {
   "cell_type": "code",
   "execution_count": 1,
   "metadata": {},
   "outputs": [
    {
     "data": {
      "text/plain": [
       "array([0., 0., 0., 0., 0.])"
      ]
     },
     "execution_count": 1,
     "metadata": {},
     "output_type": "execute_result"
    }
   ],
   "source": [
    "import numpy as np\n",
    "np.zeros(5)"
   ]
  },
  {
   "cell_type": "code",
   "execution_count": null,
   "metadata": {},
   "outputs": [],
   "source": [
    "import numpy as np\n",
    "\n",
    "def init_points(self):\n",
    "        dim = self.dim\n",
    "        nu, nv = self.resolution\n",
    "   \n",
    "        u_range = np.linspace(*self.u_range, nu)\n",
    "        v_range = np.linspace(*self.v_range, nv)\n",
    "\n",
    "        point_lists = []\n",
    "        for (du, dv) in [(0, 0), (self.epsilon, 0), (0, self.epsilon)]:\n",
    "            # u_range是101个数，v_range是51个数\n",
    "            # uv_grid的大小就是101*51\n",
    "            uv_grid = np.array([[[u + du, v + dv] for v in v_range] for u in u_range])\n",
    "            # print(len(uv_grid))       # 101\n",
    "            # print(len(uv_grid[0]))    # 51\n",
    "            # print(len(uv_grid[0][0])) # 2\n",
    "            \n",
    "            # uv_grid是一个矩形的范围，可以修改成三角形范围。有锯齿\n",
    "            # uv_grid = np.array([[[u + du, v + dv] for v in v_range] for u in u_range])\n",
    "            # for i in range(len(uv_grid)):\n",
    "            #     for j in range(len(uv_grid[i])):\n",
    "            #         u = uv_grid[i][j][0]\n",
    "            #         v = uv_grid[i][j][1]\n",
    "            #         if u - v > 2:\n",
    "            #             uv_grid[i][j] = [1,-1]\n",
    "\n",
    "            # 对uv_grid矩阵中的每一个二维点进行uv_func运算，得到对应的三维点\n",
    "            point_grid = np.apply_along_axis(lambda p: self.uv_func(*p), 2, uv_grid)\n",
    "            # print(len(point_grid))       # 101\n",
    "            # print(len(point_grid[0]))    # 51\n",
    "            # print(len(point_grid[0][0])) # 3\n",
    "\n",
    "            # 将二维矩阵压缩成列表\n",
    "            # 可视化想象: 以前101*51的矩阵，现在5151的列表\n",
    "            # for循环结束后，point_lists中是3个5151的列表\n",
    "            point_lists.append(point_grid.reshape((nu * nv, dim)))"
   ]
  },
  {
   "cell_type": "code",
   "execution_count": null,
   "metadata": {},
   "outputs": [],
   "source": [
    "import numpy as np\n",
    "\n",
    "def init_points(self):\n",
    "    nu, nv = self.resolution\n",
    "\n",
    "    u_range = np.linspace(*self.u_range, nu)\n",
    "    v_range = np.linspace(*self.v_range, nv)\n",
    "\n",
    "    all_points = []\n",
    "    uv_grid_filter = []\n",
    "    \n",
    "    uv_grid = np.array([[[u, v] for v in v_range] for u in u_range])\n",
    "    for i in range(len(uv_grid)):\n",
    "        for j in range(len(uv_grid[i])):\n",
    "            u = uv_grid[i][j][0]\n",
    "            v = uv_grid[i][j][1]\n",
    "            if u - v <= 2:\n",
    "                uv_grid_filter.append([u, v])\n",
    "\n",
    "    du = self.epsilon\n",
    "    dv = self.epsilon\n",
    "    for point in uv_grid_filter:\n",
    "            u, v = point\n",
    "            all_points.append((u, v, self.uv_func(u, v)))\n",
    "            all_points.append((u+du, v, self.uv_func(u+du, v)))\n",
    "            all_points.append((v, v+dv, self.uv_func(u, v+dv)))\n",
    "\n",
    "    self.set_points(all_points)\n",
    "\n",
    "        \n",
    "\n",
    "\n",
    "        "
   ]
  },
  {
   "cell_type": "code",
   "execution_count": 33,
   "metadata": {},
   "outputs": [
    {
     "data": {
      "text/plain": [
       "0"
      ]
     },
     "execution_count": 33,
     "metadata": {},
     "output_type": "execute_result"
    }
   ],
   "source": [
    "10%1"
   ]
  },
  {
   "cell_type": "code",
   "execution_count": 35,
   "metadata": {},
   "outputs": [
    {
     "data": {
      "text/plain": [
       "5"
      ]
     },
     "execution_count": 35,
     "metadata": {},
     "output_type": "execute_result"
    }
   ],
   "source": [
    "import math\n",
    "math.ceil(5)"
   ]
  },
  {
   "cell_type": "code",
   "execution_count": 30,
   "metadata": {},
   "outputs": [
    {
     "data": {
      "text/plain": [
       "[[[0.01, 0.001], [0.01, 1.001], [0.01, 2.001]],\n",
       " [[1.01, 0.001], [1.01, 1.001], [1.01, 2.001]],\n",
       " [[2.01, 0.001], [2.01, 1.001], [2.01, 2.001]],\n",
       " [[3.01, 0.001], [3.01, 1.001], [3.01, 2.001]],\n",
       " [[4.01, 0.001], [4.01, 1.001], [4.01, 2.001]],\n",
       " [[5.01, 0.001], [5.01, 1.001], [5.01, 2.001]],\n",
       " [[6.01, 0.001], [6.01, 1.001], [6.01, 2.001]],\n",
       " [[7.01, 0.001], [7.01, 1.001], [7.01, 2.001]],\n",
       " [[8.01, 0.001], [8.01, 1.001], [8.01, 2.001]],\n",
       " [[9.01, 0.001], [9.01, 1.001], [9.01, 2.001]]]"
      ]
     },
     "execution_count": 30,
     "metadata": {},
     "output_type": "execute_result"
    }
   ],
   "source": [
    "point_grid = [[[u, v, u+v] for v in range(3)] for u in range(10)]\n",
    "[[[u+0.01, v+0.001] for v in range(3)] for u in range(10)]"
   ]
  },
  {
   "cell_type": "code",
   "execution_count": 31,
   "metadata": {},
   "outputs": [
    {
     "data": {
      "text/plain": [
       "array([[0, 0, 0],\n",
       "       [0, 1, 1],\n",
       "       [0, 2, 2],\n",
       "       [1, 0, 1],\n",
       "       [1, 1, 2],\n",
       "       [1, 2, 3],\n",
       "       [2, 0, 2],\n",
       "       [2, 1, 3],\n",
       "       [2, 2, 4],\n",
       "       [3, 0, 3],\n",
       "       [3, 1, 4],\n",
       "       [3, 2, 5],\n",
       "       [4, 0, 4],\n",
       "       [4, 1, 5],\n",
       "       [4, 2, 6]])"
      ]
     },
     "execution_count": 31,
     "metadata": {},
     "output_type": "execute_result"
    }
   ],
   "source": [
    "import numpy as np\n",
    "point_grid = [[[u, v, u+v] for v in range(3)] for u in range(5)]\n",
    "point_grid = np.array(point_grid).reshape((3*5, 3))\n",
    "point_grid\n"
   ]
  },
  {
   "cell_type": "code",
   "execution_count": 28,
   "metadata": {},
   "outputs": [
    {
     "data": {
      "text/plain": [
       "array([[0, 0, 0],\n",
       "       [0, 1, 1],\n",
       "       [0, 2, 2],\n",
       "       [1, 0, 1],\n",
       "       [1, 1, 2],\n",
       "       [1, 2, 3],\n",
       "       [2, 0, 2],\n",
       "       [2, 1, 3],\n",
       "       [2, 2, 4],\n",
       "       [3, 0, 3],\n",
       "       [3, 1, 4],\n",
       "       [3, 2, 5],\n",
       "       [4, 0, 4],\n",
       "       [4, 1, 5],\n",
       "       [4, 2, 6],\n",
       "       [0, 0, 0],\n",
       "       [0, 1, 1],\n",
       "       [0, 2, 2],\n",
       "       [1, 0, 1],\n",
       "       [1, 1, 2],\n",
       "       [1, 2, 3],\n",
       "       [2, 0, 2],\n",
       "       [2, 1, 3],\n",
       "       [2, 2, 4],\n",
       "       [3, 0, 3],\n",
       "       [3, 1, 4],\n",
       "       [3, 2, 5],\n",
       "       [4, 0, 4],\n",
       "       [4, 1, 5],\n",
       "       [4, 2, 6]])"
      ]
     },
     "execution_count": 28,
     "metadata": {},
     "output_type": "execute_result"
    }
   ],
   "source": [
    "import numpy as np\n",
    "point_grid = [[[u, v, u+v] for v in range(3)] for u in range(5)]\n",
    "point_grid = np.array(point_grid).reshape((3*5, 3))\n",
    "\n",
    "res = []\n",
    "res.append(point_grid)\n",
    "res.append(point_grid)\n",
    "\n",
    "np.vstack(res)"
   ]
  },
  {
   "cell_type": "code",
   "execution_count": 25,
   "metadata": {},
   "outputs": [
    {
     "data": {
      "text/plain": [
       "5151"
      ]
     },
     "execution_count": 25,
     "metadata": {},
     "output_type": "execute_result"
    }
   ],
   "source": [
    "101*51"
   ]
  },
  {
   "cell_type": "code",
   "execution_count": 15,
   "metadata": {},
   "outputs": [
    {
     "name": "stdout",
     "output_type": "stream",
     "text": [
      "[0.         0.31415927 0.62831853 0.9424778  1.25663706 1.57079633\n",
      " 1.88495559 2.19911486 2.51327412 2.82743339]\n",
      "\n",
      "\n",
      "[0.         0.57119866 1.14239733 1.71359599 2.28479466 2.85599332\n",
      " 3.42719199 3.99839065 4.56958931 5.14078798 5.71198664 6.28318531]\n"
     ]
    }
   ],
   "source": [
    "import numpy as np\n",
    "import math\n",
    "\n",
    "# latitude 纬度（平行于赤道）\n",
    "PI = np.pi\n",
    "TAU = 2*PI\n",
    "n_lat_lines = 10\n",
    "theta_step = PI / n_lat_lines\n",
    "\n",
    "theta = np.arange(0, PI, theta_step)\n",
    "print(theta)\n",
    "\n",
    "print(\"\\n\")\n",
    "theta = theta[2]\n",
    "phi = np.linspace(0, TAU, int(2 * n_lat_lines * math.sin(theta)) + 1)\n",
    "print(phi)"
   ]
  },
  {
   "cell_type": "code",
   "execution_count": 6,
   "metadata": {},
   "outputs": [
    {
     "name": "stdout",
     "output_type": "stream",
     "text": [
      "[(0, 0), (1, 0), (1, 1), (2, 0), (2, 1), (2, 2)]\n"
     ]
    }
   ],
   "source": [
    "# 列表推导式，双层循环\n",
    "# 先对内层循环\n",
    "coordinates = [(x, y) for x in range(3) for y in range(x+1)]\n",
    "print(coordinates)"
   ]
  },
  {
   "cell_type": "code",
   "execution_count": 12,
   "metadata": {},
   "outputs": [
    {
     "name": "stdout",
     "output_type": "stream",
     "text": [
      "0.0\n",
      "10.0\n",
      "20.0\n",
      "30.0\n",
      "40.0\n",
      "50.0\n",
      "60.0\n",
      "70.0\n",
      "80.0\n",
      "90.0\n",
      "100.0\n",
      "110.0\n",
      "120.0\n",
      "130.0\n",
      "140.0\n",
      "150.0\n",
      "160.0\n",
      "170.0\n"
     ]
    }
   ],
   "source": [
    "import numpy as np\n",
    "\n",
    "n_lat_lines = 18\n",
    "theta_step = 180 / n_lat_lines\n",
    "\n",
    "for theta in np.arange(0, 180, theta_step):\n",
    "    print(theta)"
   ]
  },
  {
   "cell_type": "code",
   "execution_count": null,
   "metadata": {},
   "outputs": [],
   "source": [
    "import numpy as np\n",
    "\n",
    "n_lat_lines = 18\n",
    "theta_step = 180 / n_lat_lines\n",
    "\n",
    "for theta in np.arange(0, 180, theta_step):\n",
    "    print(theta + theta_step * (phi / TAU))\n"
   ]
  },
  {
   "cell_type": "code",
   "execution_count": 16,
   "metadata": {},
   "outputs": [
    {
     "name": "stdout",
     "output_type": "stream",
     "text": [
      "0.0\n",
      "3.6363636363636362\n",
      "7.2727272727272725\n",
      "10.909090909090908\n",
      "14.545454545454545\n",
      "18.18181818181818\n",
      "21.818181818181817\n",
      "25.454545454545453\n",
      "29.09090909090909\n",
      "32.72727272727273\n",
      "36.36363636363636\n",
      "40.0\n",
      "43.63636363636363\n",
      "47.27272727272727\n",
      "50.90909090909091\n",
      "54.54545454545455\n",
      "58.18181818181818\n",
      "61.81818181818181\n",
      "65.45454545454545\n",
      "69.0909090909091\n",
      "72.72727272727272\n",
      "76.36363636363636\n",
      "80.0\n",
      "83.63636363636364\n",
      "87.27272727272727\n",
      "90.9090909090909\n",
      "94.54545454545455\n",
      "98.18181818181817\n",
      "101.81818181818181\n",
      "105.45454545454545\n",
      "109.0909090909091\n",
      "112.72727272727272\n",
      "116.36363636363636\n",
      "120.0\n",
      "123.63636363636363\n",
      "127.27272727272727\n",
      "130.9090909090909\n",
      "134.54545454545453\n",
      "138.1818181818182\n",
      "141.8181818181818\n",
      "145.45454545454544\n",
      "149.0909090909091\n",
      "152.72727272727272\n",
      "156.36363636363635\n",
      "160.0\n",
      "163.63636363636363\n",
      "167.27272727272728\n",
      "170.9090909090909\n",
      "174.54545454545453\n",
      "178.1818181818182\n",
      "181.8181818181818\n",
      "185.45454545454544\n",
      "189.0909090909091\n",
      "192.72727272727272\n",
      "196.36363636363635\n",
      "200.0\n",
      "203.63636363636363\n",
      "207.27272727272725\n",
      "210.9090909090909\n",
      "214.54545454545453\n",
      "218.1818181818182\n",
      "221.8181818181818\n",
      "225.45454545454544\n",
      "229.0909090909091\n",
      "232.72727272727272\n",
      "236.36363636363635\n",
      "240.0\n",
      "243.63636363636363\n",
      "247.27272727272725\n",
      "250.9090909090909\n",
      "254.54545454545453\n",
      "258.1818181818182\n",
      "261.8181818181818\n",
      "265.45454545454544\n",
      "269.09090909090907\n",
      "272.7272727272727\n",
      "276.3636363636364\n",
      "280.0\n",
      "283.6363636363636\n",
      "287.27272727272725\n",
      "290.9090909090909\n",
      "294.54545454545456\n",
      "298.1818181818182\n",
      "301.8181818181818\n",
      "305.45454545454544\n",
      "309.09090909090907\n",
      "312.7272727272727\n",
      "316.3636363636364\n",
      "320.0\n",
      "323.6363636363636\n",
      "327.27272727272725\n",
      "330.9090909090909\n",
      "334.54545454545456\n",
      "338.1818181818182\n",
      "341.8181818181818\n",
      "345.45454545454544\n",
      "349.09090909090907\n",
      "352.7272727272727\n",
      "356.3636363636364\n",
      "360.0\n"
     ]
    }
   ],
   "source": [
    "import numpy as np\n",
    "\n",
    "for phi in np.linspace(0, 360, 100):\n",
    "    print(phi)"
   ]
  },
  {
   "cell_type": "code",
   "execution_count": null,
   "metadata": {},
   "outputs": [],
   "source": []
  },
  {
   "cell_type": "code",
   "execution_count": 2,
   "metadata": {},
   "outputs": [
    {
     "data": {
      "text/plain": [
       "array([ 1.  ,  1.  , -0.01])"
      ]
     },
     "execution_count": 2,
     "metadata": {},
     "output_type": "execute_result"
    }
   ],
   "source": [
    "import numpy as np\n",
    "\n",
    "def project_to_xy_plane(p1, p2):\n",
    "    \"\"\"\n",
    "    如何理解这个函数？\n",
    "    函数目的: 求出从p1到p2的直线与xy平面的交点\n",
    "\n",
    "    为了方便讨论, 假设p1和p2在xoy平面的上方, 且p1在p2之上\n",
    "    vect是一条从p1指向p2的向量\n",
    "    (z2 / vect[2]) * vect也就是\n",
    "    (z1 / (z2-z1)) * vect, 就是把vect向量延长z1/(z1-z2)倍, 且取反方向\n",
    "    从几何角度来看, 延长后的向量的起点(因为取反)恰好在xoy平面上\n",
    "    假设起点为p3\n",
    "    那么延长后的向量(z1 / (z1-z2)) * vect = p1 - p3\n",
    "    进而: p3 = p1 - (p1 - p3)\n",
    "    \"\"\"\n",
    "    x1, y1, z1 = p1\n",
    "    x2, y2, z2 = p2\n",
    "    if z2 < z1:\n",
    "        z2 = z1 + 1e-2  # TODO, bad hack\n",
    "    vect = p2 - p1\n",
    "    return p1 - (z2 / vect[2]) * vect\n",
    "    \n",
    "\n",
    "p1 = np.array([1, 1, 3])\n",
    "p2 = np.array([1, 1, 2])\n",
    "project_to_xy_plane(p1, p2)"
   ]
  },
  {
   "cell_type": "code",
   "execution_count": 4,
   "metadata": {},
   "outputs": [
    {
     "data": {
      "text/plain": [
       "array([1., 1., 0.])"
      ]
     },
     "execution_count": 4,
     "metadata": {},
     "output_type": "execute_result"
    }
   ],
   "source": [
    "import numpy as np\n",
    "\n",
    "def project_to_xy_plane(p1, p2):\n",
    "    \"\"\"\n",
    "    如何理解这个函数？\n",
    "    函数目的: 求出从p1到p2的直线与xy平面的交点\n",
    "\n",
    "    为了方便讨论, 假设p1和p2在xoy平面的上方, 且p1在p2之上\n",
    "    vect是一条从p1指向p2的向量\n",
    "    (z2 / vect[2]) * vect也就是\n",
    "    (z1 / (z2-z1)) * vect, 就是把vect向量延长z1/(z1-z2)倍, 且取反方向\n",
    "    从几何角度来看, 延长后的向量的起点(因为取反)恰好在xoy平面上\n",
    "    假设起点为p3\n",
    "    那么延长后的向量(z1 / (z1-z2)) * vect = p1 - p3\n",
    "    进而: p3 = p1 - (p1 - p3)\n",
    "    \"\"\"\n",
    "    x1, y1, z1 = p1\n",
    "    x2, y2, z2 = p2\n",
    "    vect = p2 - p1\n",
    "    return p1 - (z1 / vect[2]) * vect\n",
    "    \n",
    "p1 = np.array([1, 1, 3])\n",
    "p2 = np.array([1, 1, 2])\n",
    "project_to_xy_plane(p1, p2)"
   ]
  },
  {
   "cell_type": "code",
   "execution_count": 5,
   "metadata": {},
   "outputs": [
    {
     "name": "stdout",
     "output_type": "stream",
     "text": [
      "Result along axis 0: [12 15 18]\n",
      "Result along axis 1: [ 6 15 24]\n"
     ]
    }
   ],
   "source": [
    "import numpy as np\n",
    "\n",
    "data = np.array([[1, 2, 3],\n",
    "                 [4, 5, 6],\n",
    "                 [7, 8, 9]])\n",
    "\n",
    "def custom_function(arr):\n",
    "    return np.sum(arr)\n",
    "\n",
    "result_axis_0 = np.apply_along_axis(custom_function, axis=0, arr=data)\n",
    "result_axis_1 = np.apply_along_axis(custom_function, axis=1, arr=data)\n",
    "\n",
    "print(\"Result along axis 0:\", result_axis_0)\n",
    "print(\"Result along axis 1:\", result_axis_1)\n"
   ]
  },
  {
   "cell_type": "code",
   "execution_count": 28,
   "metadata": {},
   "outputs": [
    {
     "name": "stdout",
     "output_type": "stream",
     "text": [
      "[[0, 0], [0, 0], [0, 0], [0, 0], [0, 0], [0, 0], [0, 0], [0, 0], [0, 0], [0, 0]]\n",
      "[[0, 0], [0, 0], [0, 0], [0, 0], [0, 0], [0, 0], [0, 0], [0, 0], [0, 0], [1, 9]]\n",
      "[[0, 0], [0, 0], [0, 0], [0, 0], [0, 0], [0, 0], [0, 0], [0, 0], [2, 8], [2, 9]]\n",
      "[[0, 0], [0, 0], [0, 0], [0, 0], [0, 0], [0, 0], [0, 0], [3, 7], [3, 8], [3, 9]]\n",
      "[[0, 0], [0, 0], [0, 0], [0, 0], [0, 0], [0, 0], [4, 6], [4, 7], [4, 8], [4, 9]]\n",
      "[[0, 0], [0, 0], [0, 0], [0, 0], [0, 0], [5, 5], [5, 6], [5, 7], [5, 8], [5, 9]]\n",
      "[[0, 0], [0, 0], [0, 0], [0, 0], [6, 4], [6, 5], [6, 6], [6, 7], [6, 8], [6, 9]]\n",
      "[[0, 0], [0, 0], [0, 0], [7, 3], [7, 4], [7, 5], [7, 6], [7, 7], [7, 8], [7, 9]]\n",
      "[[0, 0], [0, 0], [8, 2], [8, 3], [8, 4], [8, 5], [8, 6], [8, 7], [8, 8], [8, 9]]\n",
      "[[0, 0], [9, 1], [9, 2], [9, 3], [9, 4], [9, 5], [9, 6], [9, 7], [9, 8], [9, 9]]\n"
     ]
    }
   ],
   "source": [
    "import numpy as np\n",
    "\n",
    "# Define u_range and v_range\n",
    "u_range = range(0, 10, 1)\n",
    "v_range = range(0, 10, 1)\n",
    "\n",
    "# Use nested list comprehension and conditional statement to generate the result\n",
    "result = [[[u, v] for v in v_range] for u in u_range]\n",
    "for i in range(len(result)):\n",
    "    for j in range(len(result[i])):\n",
    "        u = result[i][j][0]\n",
    "        v = result[i][j][1] \n",
    "        if u + v < 10:\n",
    "            result[i][j]=[0,0]\n",
    "\n",
    "# Print the result\n",
    "for row in result:\n",
    "    print(row)\n"
   ]
  },
  {
   "cell_type": "code",
   "execution_count": 25,
   "metadata": {},
   "outputs": [
    {
     "name": "stdout",
     "output_type": "stream",
     "text": [
      "[[0, 0], [0, 1], [0, 2], [0, 3], [0, 4], [0, 5], [0, 6], [0, 7], [0, 8], [0, 9]]\n",
      "[[1, 0], [1, 1], [1, 2], [1, 3], [1, 4], [1, 5], [1, 6], [1, 7], [1, 8]]\n",
      "[[2, 0], [2, 1], [2, 2], [2, 3], [2, 4], [2, 5], [2, 6], [2, 7]]\n",
      "[[3, 0], [3, 1], [3, 2], [3, 3], [3, 4], [3, 5], [3, 6]]\n",
      "[[4, 0], [4, 1], [4, 2], [4, 3], [4, 4], [4, 5]]\n",
      "[[5, 0], [5, 1], [5, 2], [5, 3], [5, 4]]\n",
      "[[6, 0], [6, 1], [6, 2], [6, 3]]\n",
      "[[7, 0], [7, 1], [7, 2]]\n",
      "[[8, 0], [8, 1]]\n",
      "[[9, 0]]\n"
     ]
    }
   ],
   "source": [
    "import numpy as np\n",
    "\n",
    "# Define u_range and v_range\n",
    "u_range = range(0, 10, 1)\n",
    "v_range = range(0, 10, 1)\n",
    "\n",
    "# Use nested list comprehension and conditional statement to generate the result\n",
    "result = [[[0, 0] for v in v_range] for u in u_range]\n",
    "result = [[[u, v] for v in v_range if u + v < 10 ] for u in u_range]\n",
    "\n",
    "# Convert the result to a regular Python list\n",
    "result = list(result)\n",
    "\n",
    "# Print the result\n",
    "for row in result:\n",
    "    print(row)\n"
   ]
  },
  {
   "cell_type": "code",
   "execution_count": 11,
   "metadata": {},
   "outputs": [
    {
     "data": {
      "text/plain": [
       "[0, 1, 2, 3, 4, 5, 6, 7, 8, 9]"
      ]
     },
     "execution_count": 11,
     "metadata": {},
     "output_type": "execute_result"
    }
   ],
   "source": [
    "u_range = list(range(0, 10, 1))\n",
    "u_range"
   ]
  }
 ],
 "metadata": {
  "kernelspec": {
   "display_name": "manimgl_1.6.1",
   "language": "python",
   "name": "python3"
  },
  "language_info": {
   "codemirror_mode": {
    "name": "ipython",
    "version": 3
   },
   "file_extension": ".py",
   "mimetype": "text/x-python",
   "name": "python",
   "nbconvert_exporter": "python",
   "pygments_lexer": "ipython3",
   "version": "3.8.17"
  },
  "orig_nbformat": 4
 },
 "nbformat": 4,
 "nbformat_minor": 2
}
