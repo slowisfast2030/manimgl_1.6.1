{
 "cells": [
  {
   "cell_type": "code",
   "execution_count": 18,
   "metadata": {},
   "outputs": [
    {
     "data": {
      "text/plain": [
       "[[[0, 0], [0, 1], [0, 2]],\n",
       " [[1, 0], [1, 1], [1, 2]],\n",
       " [[2, 0], [2, 1], [2, 2]],\n",
       " [[3, 0], [3, 1], [3, 2]],\n",
       " [[4, 0], [4, 1], [4, 2]],\n",
       " [[5, 0], [5, 1], [5, 2]],\n",
       " [[6, 0], [6, 1], [6, 2]],\n",
       " [[7, 0], [7, 1], [7, 2]],\n",
       " [[8, 0], [8, 1], [8, 2]],\n",
       " [[9, 0], [9, 1], [9, 2]]]"
      ]
     },
     "execution_count": 18,
     "metadata": {},
     "output_type": "execute_result"
    }
   ],
   "source": [
    "[[[u, v] for v in range(3)] for u in range(10)]"
   ]
  },
  {
   "cell_type": "code",
   "execution_count": 15,
   "metadata": {},
   "outputs": [
    {
     "name": "stdout",
     "output_type": "stream",
     "text": [
      "[0.         0.31415927 0.62831853 0.9424778  1.25663706 1.57079633\n",
      " 1.88495559 2.19911486 2.51327412 2.82743339]\n",
      "\n",
      "\n",
      "[0.         0.57119866 1.14239733 1.71359599 2.28479466 2.85599332\n",
      " 3.42719199 3.99839065 4.56958931 5.14078798 5.71198664 6.28318531]\n"
     ]
    }
   ],
   "source": [
    "import numpy as np\n",
    "import math\n",
    "\n",
    "# latitude 纬度（平行于赤道）\n",
    "PI = np.pi\n",
    "TAU = 2*PI\n",
    "n_lat_lines = 10\n",
    "theta_step = PI / n_lat_lines\n",
    "\n",
    "theta = np.arange(0, PI, theta_step)\n",
    "print(theta)\n",
    "\n",
    "print(\"\\n\")\n",
    "theta = theta[2]\n",
    "phi = np.linspace(0, TAU, int(2 * n_lat_lines * math.sin(theta)) + 1)\n",
    "print(phi)"
   ]
  },
  {
   "cell_type": "code",
   "execution_count": 6,
   "metadata": {},
   "outputs": [
    {
     "name": "stdout",
     "output_type": "stream",
     "text": [
      "[(0, 0), (1, 0), (1, 1), (2, 0), (2, 1), (2, 2)]\n"
     ]
    }
   ],
   "source": [
    "# 列表推导式，双层循环\n",
    "# 先对内层循环\n",
    "coordinates = [(x, y) for x in range(3) for y in range(x+1)]\n",
    "print(coordinates)"
   ]
  },
  {
   "cell_type": "code",
   "execution_count": 12,
   "metadata": {},
   "outputs": [
    {
     "name": "stdout",
     "output_type": "stream",
     "text": [
      "0.0\n",
      "10.0\n",
      "20.0\n",
      "30.0\n",
      "40.0\n",
      "50.0\n",
      "60.0\n",
      "70.0\n",
      "80.0\n",
      "90.0\n",
      "100.0\n",
      "110.0\n",
      "120.0\n",
      "130.0\n",
      "140.0\n",
      "150.0\n",
      "160.0\n",
      "170.0\n"
     ]
    }
   ],
   "source": [
    "import numpy as np\n",
    "\n",
    "n_lat_lines = 18\n",
    "theta_step = 180 / n_lat_lines\n",
    "\n",
    "for theta in np.arange(0, 180, theta_step):\n",
    "    print(theta)"
   ]
  },
  {
   "cell_type": "code",
   "execution_count": null,
   "metadata": {},
   "outputs": [],
   "source": [
    "import numpy as np\n",
    "\n",
    "n_lat_lines = 18\n",
    "theta_step = 180 / n_lat_lines\n",
    "\n",
    "for theta in np.arange(0, 180, theta_step):\n",
    "    print(theta + theta_step * (phi / TAU))\n"
   ]
  },
  {
   "cell_type": "code",
   "execution_count": 16,
   "metadata": {},
   "outputs": [
    {
     "name": "stdout",
     "output_type": "stream",
     "text": [
      "0.0\n",
      "3.6363636363636362\n",
      "7.2727272727272725\n",
      "10.909090909090908\n",
      "14.545454545454545\n",
      "18.18181818181818\n",
      "21.818181818181817\n",
      "25.454545454545453\n",
      "29.09090909090909\n",
      "32.72727272727273\n",
      "36.36363636363636\n",
      "40.0\n",
      "43.63636363636363\n",
      "47.27272727272727\n",
      "50.90909090909091\n",
      "54.54545454545455\n",
      "58.18181818181818\n",
      "61.81818181818181\n",
      "65.45454545454545\n",
      "69.0909090909091\n",
      "72.72727272727272\n",
      "76.36363636363636\n",
      "80.0\n",
      "83.63636363636364\n",
      "87.27272727272727\n",
      "90.9090909090909\n",
      "94.54545454545455\n",
      "98.18181818181817\n",
      "101.81818181818181\n",
      "105.45454545454545\n",
      "109.0909090909091\n",
      "112.72727272727272\n",
      "116.36363636363636\n",
      "120.0\n",
      "123.63636363636363\n",
      "127.27272727272727\n",
      "130.9090909090909\n",
      "134.54545454545453\n",
      "138.1818181818182\n",
      "141.8181818181818\n",
      "145.45454545454544\n",
      "149.0909090909091\n",
      "152.72727272727272\n",
      "156.36363636363635\n",
      "160.0\n",
      "163.63636363636363\n",
      "167.27272727272728\n",
      "170.9090909090909\n",
      "174.54545454545453\n",
      "178.1818181818182\n",
      "181.8181818181818\n",
      "185.45454545454544\n",
      "189.0909090909091\n",
      "192.72727272727272\n",
      "196.36363636363635\n",
      "200.0\n",
      "203.63636363636363\n",
      "207.27272727272725\n",
      "210.9090909090909\n",
      "214.54545454545453\n",
      "218.1818181818182\n",
      "221.8181818181818\n",
      "225.45454545454544\n",
      "229.0909090909091\n",
      "232.72727272727272\n",
      "236.36363636363635\n",
      "240.0\n",
      "243.63636363636363\n",
      "247.27272727272725\n",
      "250.9090909090909\n",
      "254.54545454545453\n",
      "258.1818181818182\n",
      "261.8181818181818\n",
      "265.45454545454544\n",
      "269.09090909090907\n",
      "272.7272727272727\n",
      "276.3636363636364\n",
      "280.0\n",
      "283.6363636363636\n",
      "287.27272727272725\n",
      "290.9090909090909\n",
      "294.54545454545456\n",
      "298.1818181818182\n",
      "301.8181818181818\n",
      "305.45454545454544\n",
      "309.09090909090907\n",
      "312.7272727272727\n",
      "316.3636363636364\n",
      "320.0\n",
      "323.6363636363636\n",
      "327.27272727272725\n",
      "330.9090909090909\n",
      "334.54545454545456\n",
      "338.1818181818182\n",
      "341.8181818181818\n",
      "345.45454545454544\n",
      "349.09090909090907\n",
      "352.7272727272727\n",
      "356.3636363636364\n",
      "360.0\n"
     ]
    }
   ],
   "source": [
    "import numpy as np\n",
    "\n",
    "for phi in np.linspace(0, 360, 100):\n",
    "    print(phi)"
   ]
  },
  {
   "cell_type": "code",
   "execution_count": null,
   "metadata": {},
   "outputs": [],
   "source": []
  },
  {
   "cell_type": "code",
   "execution_count": 2,
   "metadata": {},
   "outputs": [
    {
     "data": {
      "text/plain": [
       "array([ 1.  ,  1.  , -0.01])"
      ]
     },
     "execution_count": 2,
     "metadata": {},
     "output_type": "execute_result"
    }
   ],
   "source": [
    "import numpy as np\n",
    "\n",
    "def project_to_xy_plane(p1, p2):\n",
    "    \"\"\"\n",
    "    如何理解这个函数？\n",
    "    函数目的: 求出从p1到p2的直线与xy平面的交点\n",
    "\n",
    "    为了方便讨论, 假设p1和p2在xoy平面的上方, 且p1在p2之上\n",
    "    vect是一条从p1指向p2的向量\n",
    "    (z2 / vect[2]) * vect也就是\n",
    "    (z1 / (z2-z1)) * vect, 就是把vect向量延长z1/(z1-z2)倍, 且取反方向\n",
    "    从几何角度来看, 延长后的向量的起点(因为取反)恰好在xoy平面上\n",
    "    假设起点为p3\n",
    "    那么延长后的向量(z1 / (z1-z2)) * vect = p1 - p3\n",
    "    进而: p3 = p1 - (p1 - p3)\n",
    "    \"\"\"\n",
    "    x1, y1, z1 = p1\n",
    "    x2, y2, z2 = p2\n",
    "    if z2 < z1:\n",
    "        z2 = z1 + 1e-2  # TODO, bad hack\n",
    "    vect = p2 - p1\n",
    "    return p1 - (z2 / vect[2]) * vect\n",
    "    \n",
    "\n",
    "p1 = np.array([1, 1, 3])\n",
    "p2 = np.array([1, 1, 2])\n",
    "project_to_xy_plane(p1, p2)"
   ]
  },
  {
   "cell_type": "code",
   "execution_count": 4,
   "metadata": {},
   "outputs": [
    {
     "data": {
      "text/plain": [
       "array([1., 1., 0.])"
      ]
     },
     "execution_count": 4,
     "metadata": {},
     "output_type": "execute_result"
    }
   ],
   "source": [
    "import numpy as np\n",
    "\n",
    "def project_to_xy_plane(p1, p2):\n",
    "    \"\"\"\n",
    "    如何理解这个函数？\n",
    "    函数目的: 求出从p1到p2的直线与xy平面的交点\n",
    "\n",
    "    为了方便讨论, 假设p1和p2在xoy平面的上方, 且p1在p2之上\n",
    "    vect是一条从p1指向p2的向量\n",
    "    (z2 / vect[2]) * vect也就是\n",
    "    (z1 / (z2-z1)) * vect, 就是把vect向量延长z1/(z1-z2)倍, 且取反方向\n",
    "    从几何角度来看, 延长后的向量的起点(因为取反)恰好在xoy平面上\n",
    "    假设起点为p3\n",
    "    那么延长后的向量(z1 / (z1-z2)) * vect = p1 - p3\n",
    "    进而: p3 = p1 - (p1 - p3)\n",
    "    \"\"\"\n",
    "    x1, y1, z1 = p1\n",
    "    x2, y2, z2 = p2\n",
    "    vect = p2 - p1\n",
    "    return p1 - (z1 / vect[2]) * vect\n",
    "    \n",
    "p1 = np.array([1, 1, 3])\n",
    "p2 = np.array([1, 1, 2])\n",
    "project_to_xy_plane(p1, p2)"
   ]
  },
  {
   "cell_type": "code",
   "execution_count": 5,
   "metadata": {},
   "outputs": [
    {
     "name": "stdout",
     "output_type": "stream",
     "text": [
      "Result along axis 0: [12 15 18]\n",
      "Result along axis 1: [ 6 15 24]\n"
     ]
    }
   ],
   "source": [
    "import numpy as np\n",
    "\n",
    "data = np.array([[1, 2, 3],\n",
    "                 [4, 5, 6],\n",
    "                 [7, 8, 9]])\n",
    "\n",
    "def custom_function(arr):\n",
    "    return np.sum(arr)\n",
    "\n",
    "result_axis_0 = np.apply_along_axis(custom_function, axis=0, arr=data)\n",
    "result_axis_1 = np.apply_along_axis(custom_function, axis=1, arr=data)\n",
    "\n",
    "print(\"Result along axis 0:\", result_axis_0)\n",
    "print(\"Result along axis 1:\", result_axis_1)\n"
   ]
  },
  {
   "cell_type": "code",
   "execution_count": 28,
   "metadata": {},
   "outputs": [
    {
     "name": "stdout",
     "output_type": "stream",
     "text": [
      "[[0, 0], [0, 0], [0, 0], [0, 0], [0, 0], [0, 0], [0, 0], [0, 0], [0, 0], [0, 0]]\n",
      "[[0, 0], [0, 0], [0, 0], [0, 0], [0, 0], [0, 0], [0, 0], [0, 0], [0, 0], [1, 9]]\n",
      "[[0, 0], [0, 0], [0, 0], [0, 0], [0, 0], [0, 0], [0, 0], [0, 0], [2, 8], [2, 9]]\n",
      "[[0, 0], [0, 0], [0, 0], [0, 0], [0, 0], [0, 0], [0, 0], [3, 7], [3, 8], [3, 9]]\n",
      "[[0, 0], [0, 0], [0, 0], [0, 0], [0, 0], [0, 0], [4, 6], [4, 7], [4, 8], [4, 9]]\n",
      "[[0, 0], [0, 0], [0, 0], [0, 0], [0, 0], [5, 5], [5, 6], [5, 7], [5, 8], [5, 9]]\n",
      "[[0, 0], [0, 0], [0, 0], [0, 0], [6, 4], [6, 5], [6, 6], [6, 7], [6, 8], [6, 9]]\n",
      "[[0, 0], [0, 0], [0, 0], [7, 3], [7, 4], [7, 5], [7, 6], [7, 7], [7, 8], [7, 9]]\n",
      "[[0, 0], [0, 0], [8, 2], [8, 3], [8, 4], [8, 5], [8, 6], [8, 7], [8, 8], [8, 9]]\n",
      "[[0, 0], [9, 1], [9, 2], [9, 3], [9, 4], [9, 5], [9, 6], [9, 7], [9, 8], [9, 9]]\n"
     ]
    }
   ],
   "source": [
    "import numpy as np\n",
    "\n",
    "# Define u_range and v_range\n",
    "u_range = range(0, 10, 1)\n",
    "v_range = range(0, 10, 1)\n",
    "\n",
    "# Use nested list comprehension and conditional statement to generate the result\n",
    "result = [[[u, v] for v in v_range] for u in u_range]\n",
    "for i in range(len(result)):\n",
    "    for j in range(len(result[i])):\n",
    "        u = result[i][j][0]\n",
    "        v = result[i][j][1] \n",
    "        if u + v < 10:\n",
    "            result[i][j]=[0,0]\n",
    "\n",
    "# Print the result\n",
    "for row in result:\n",
    "    print(row)\n"
   ]
  },
  {
   "cell_type": "code",
   "execution_count": 25,
   "metadata": {},
   "outputs": [
    {
     "name": "stdout",
     "output_type": "stream",
     "text": [
      "[[0, 0], [0, 1], [0, 2], [0, 3], [0, 4], [0, 5], [0, 6], [0, 7], [0, 8], [0, 9]]\n",
      "[[1, 0], [1, 1], [1, 2], [1, 3], [1, 4], [1, 5], [1, 6], [1, 7], [1, 8]]\n",
      "[[2, 0], [2, 1], [2, 2], [2, 3], [2, 4], [2, 5], [2, 6], [2, 7]]\n",
      "[[3, 0], [3, 1], [3, 2], [3, 3], [3, 4], [3, 5], [3, 6]]\n",
      "[[4, 0], [4, 1], [4, 2], [4, 3], [4, 4], [4, 5]]\n",
      "[[5, 0], [5, 1], [5, 2], [5, 3], [5, 4]]\n",
      "[[6, 0], [6, 1], [6, 2], [6, 3]]\n",
      "[[7, 0], [7, 1], [7, 2]]\n",
      "[[8, 0], [8, 1]]\n",
      "[[9, 0]]\n"
     ]
    }
   ],
   "source": [
    "import numpy as np\n",
    "\n",
    "# Define u_range and v_range\n",
    "u_range = range(0, 10, 1)\n",
    "v_range = range(0, 10, 1)\n",
    "\n",
    "# Use nested list comprehension and conditional statement to generate the result\n",
    "result = [[[0, 0] for v in v_range] for u in u_range]\n",
    "result = [[[u, v] for v in v_range if u + v < 10 ] for u in u_range]\n",
    "\n",
    "# Convert the result to a regular Python list\n",
    "result = list(result)\n",
    "\n",
    "# Print the result\n",
    "for row in result:\n",
    "    print(row)\n"
   ]
  },
  {
   "cell_type": "code",
   "execution_count": 11,
   "metadata": {},
   "outputs": [
    {
     "data": {
      "text/plain": [
       "[0, 1, 2, 3, 4, 5, 6, 7, 8, 9]"
      ]
     },
     "execution_count": 11,
     "metadata": {},
     "output_type": "execute_result"
    }
   ],
   "source": [
    "u_range = list(range(0, 10, 1))\n",
    "u_range"
   ]
  }
 ],
 "metadata": {
  "kernelspec": {
   "display_name": "manimgl_1.6.1",
   "language": "python",
   "name": "python3"
  },
  "language_info": {
   "codemirror_mode": {
    "name": "ipython",
    "version": 3
   },
   "file_extension": ".py",
   "mimetype": "text/x-python",
   "name": "python",
   "nbconvert_exporter": "python",
   "pygments_lexer": "ipython3",
   "version": "3.8.17"
  },
  "orig_nbformat": 4
 },
 "nbformat": 4,
 "nbformat_minor": 2
}
