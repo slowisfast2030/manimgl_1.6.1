{
 "cells": [
  {
   "cell_type": "code",
   "execution_count": 2,
   "metadata": {},
   "outputs": [
    {
     "data": {
      "text/plain": [
       "array([ 1.  ,  1.  , -0.01])"
      ]
     },
     "execution_count": 2,
     "metadata": {},
     "output_type": "execute_result"
    }
   ],
   "source": [
    "import numpy as np\n",
    "\n",
    "def project_to_xy_plane(p1, p2):\n",
    "    \"\"\"\n",
    "    如何理解这个函数？\n",
    "    函数目的: 求出从p1到p2的直线与xy平面的交点\n",
    "\n",
    "    为了方便讨论, 假设p1和p2在xoy平面的上方, 且p1在p2之上\n",
    "    vect是一条从p1指向p2的向量\n",
    "    (z2 / vect[2]) * vect也就是\n",
    "    (z1 / (z2-z1)) * vect, 就是把vect向量延长z1/(z1-z2)倍, 且取反方向\n",
    "    从几何角度来看, 延长后的向量的起点(因为取反)恰好在xoy平面上\n",
    "    假设起点为p3\n",
    "    那么延长后的向量(z1 / (z1-z2)) * vect = p1 - p3\n",
    "    进而: p3 = p1 - (p1 - p3)\n",
    "    \"\"\"\n",
    "    x1, y1, z1 = p1\n",
    "    x2, y2, z2 = p2\n",
    "    if z2 < z1:\n",
    "        z2 = z1 + 1e-2  # TODO, bad hack\n",
    "    vect = p2 - p1\n",
    "    return p1 - (z2 / vect[2]) * vect\n",
    "    \n",
    "\n",
    "p1 = np.array([1, 1, 3])\n",
    "p2 = np.array([1, 1, 2])\n",
    "project_to_xy_plane(p1, p2)"
   ]
  },
  {
   "cell_type": "code",
   "execution_count": 4,
   "metadata": {},
   "outputs": [
    {
     "data": {
      "text/plain": [
       "array([1., 1., 0.])"
      ]
     },
     "execution_count": 4,
     "metadata": {},
     "output_type": "execute_result"
    }
   ],
   "source": [
    "import numpy as np\n",
    "\n",
    "def project_to_xy_plane(p1, p2):\n",
    "    \"\"\"\n",
    "    如何理解这个函数？\n",
    "    函数目的: 求出从p1到p2的直线与xy平面的交点\n",
    "\n",
    "    为了方便讨论, 假设p1和p2在xoy平面的上方, 且p1在p2之上\n",
    "    vect是一条从p1指向p2的向量\n",
    "    (z2 / vect[2]) * vect也就是\n",
    "    (z1 / (z2-z1)) * vect, 就是把vect向量延长z1/(z1-z2)倍, 且取反方向\n",
    "    从几何角度来看, 延长后的向量的起点(因为取反)恰好在xoy平面上\n",
    "    假设起点为p3\n",
    "    那么延长后的向量(z1 / (z1-z2)) * vect = p1 - p3\n",
    "    进而: p3 = p1 - (p1 - p3)\n",
    "    \"\"\"\n",
    "    x1, y1, z1 = p1\n",
    "    x2, y2, z2 = p2\n",
    "    vect = p2 - p1\n",
    "    return p1 - (z1 / vect[2]) * vect\n",
    "    \n",
    "p1 = np.array([1, 1, 3])\n",
    "p2 = np.array([1, 1, 2])\n",
    "project_to_xy_plane(p1, p2)"
   ]
  },
  {
   "cell_type": "code",
   "execution_count": 5,
   "metadata": {},
   "outputs": [
    {
     "name": "stdout",
     "output_type": "stream",
     "text": [
      "Result along axis 0: [12 15 18]\n",
      "Result along axis 1: [ 6 15 24]\n"
     ]
    }
   ],
   "source": [
    "import numpy as np\n",
    "\n",
    "data = np.array([[1, 2, 3],\n",
    "                 [4, 5, 6],\n",
    "                 [7, 8, 9]])\n",
    "\n",
    "def custom_function(arr):\n",
    "    return np.sum(arr)\n",
    "\n",
    "result_axis_0 = np.apply_along_axis(custom_function, axis=0, arr=data)\n",
    "result_axis_1 = np.apply_along_axis(custom_function, axis=1, arr=data)\n",
    "\n",
    "print(\"Result along axis 0:\", result_axis_0)\n",
    "print(\"Result along axis 1:\", result_axis_1)\n"
   ]
  },
  {
   "cell_type": "code",
   "execution_count": 28,
   "metadata": {},
   "outputs": [
    {
     "name": "stdout",
     "output_type": "stream",
     "text": [
      "[[0, 0], [0, 0], [0, 0], [0, 0], [0, 0], [0, 0], [0, 0], [0, 0], [0, 0], [0, 0]]\n",
      "[[0, 0], [0, 0], [0, 0], [0, 0], [0, 0], [0, 0], [0, 0], [0, 0], [0, 0], [1, 9]]\n",
      "[[0, 0], [0, 0], [0, 0], [0, 0], [0, 0], [0, 0], [0, 0], [0, 0], [2, 8], [2, 9]]\n",
      "[[0, 0], [0, 0], [0, 0], [0, 0], [0, 0], [0, 0], [0, 0], [3, 7], [3, 8], [3, 9]]\n",
      "[[0, 0], [0, 0], [0, 0], [0, 0], [0, 0], [0, 0], [4, 6], [4, 7], [4, 8], [4, 9]]\n",
      "[[0, 0], [0, 0], [0, 0], [0, 0], [0, 0], [5, 5], [5, 6], [5, 7], [5, 8], [5, 9]]\n",
      "[[0, 0], [0, 0], [0, 0], [0, 0], [6, 4], [6, 5], [6, 6], [6, 7], [6, 8], [6, 9]]\n",
      "[[0, 0], [0, 0], [0, 0], [7, 3], [7, 4], [7, 5], [7, 6], [7, 7], [7, 8], [7, 9]]\n",
      "[[0, 0], [0, 0], [8, 2], [8, 3], [8, 4], [8, 5], [8, 6], [8, 7], [8, 8], [8, 9]]\n",
      "[[0, 0], [9, 1], [9, 2], [9, 3], [9, 4], [9, 5], [9, 6], [9, 7], [9, 8], [9, 9]]\n"
     ]
    }
   ],
   "source": [
    "import numpy as np\n",
    "\n",
    "# Define u_range and v_range\n",
    "u_range = range(0, 10, 1)\n",
    "v_range = range(0, 10, 1)\n",
    "\n",
    "# Use nested list comprehension and conditional statement to generate the result\n",
    "result = [[[u, v] for v in v_range] for u in u_range]\n",
    "for i in range(len(result)):\n",
    "    for j in range(len(result[i])):\n",
    "        u = result[i][j][0]\n",
    "        v = result[i][j][1] \n",
    "        if u + v < 10:\n",
    "            result[i][j]=[0,0]\n",
    "\n",
    "# Print the result\n",
    "for row in result:\n",
    "    print(row)\n"
   ]
  },
  {
   "cell_type": "code",
   "execution_count": 25,
   "metadata": {},
   "outputs": [
    {
     "name": "stdout",
     "output_type": "stream",
     "text": [
      "[[0, 0], [0, 1], [0, 2], [0, 3], [0, 4], [0, 5], [0, 6], [0, 7], [0, 8], [0, 9]]\n",
      "[[1, 0], [1, 1], [1, 2], [1, 3], [1, 4], [1, 5], [1, 6], [1, 7], [1, 8]]\n",
      "[[2, 0], [2, 1], [2, 2], [2, 3], [2, 4], [2, 5], [2, 6], [2, 7]]\n",
      "[[3, 0], [3, 1], [3, 2], [3, 3], [3, 4], [3, 5], [3, 6]]\n",
      "[[4, 0], [4, 1], [4, 2], [4, 3], [4, 4], [4, 5]]\n",
      "[[5, 0], [5, 1], [5, 2], [5, 3], [5, 4]]\n",
      "[[6, 0], [6, 1], [6, 2], [6, 3]]\n",
      "[[7, 0], [7, 1], [7, 2]]\n",
      "[[8, 0], [8, 1]]\n",
      "[[9, 0]]\n"
     ]
    }
   ],
   "source": [
    "import numpy as np\n",
    "\n",
    "# Define u_range and v_range\n",
    "u_range = range(0, 10, 1)\n",
    "v_range = range(0, 10, 1)\n",
    "\n",
    "# Use nested list comprehension and conditional statement to generate the result\n",
    "result = [[[0, 0] for v in v_range] for u in u_range]\n",
    "result = [[[u, v] for v in v_range if u + v < 10 ] for u in u_range]\n",
    "\n",
    "# Convert the result to a regular Python list\n",
    "result = list(result)\n",
    "\n",
    "# Print the result\n",
    "for row in result:\n",
    "    print(row)\n"
   ]
  },
  {
   "cell_type": "code",
   "execution_count": 11,
   "metadata": {},
   "outputs": [
    {
     "data": {
      "text/plain": [
       "[0, 1, 2, 3, 4, 5, 6, 7, 8, 9]"
      ]
     },
     "execution_count": 11,
     "metadata": {},
     "output_type": "execute_result"
    }
   ],
   "source": [
    "u_range = list(range(0, 10, 1))\n",
    "u_range"
   ]
  }
 ],
 "metadata": {
  "kernelspec": {
   "display_name": "manimgl_1.6.1",
   "language": "python",
   "name": "python3"
  },
  "language_info": {
   "codemirror_mode": {
    "name": "ipython",
    "version": 3
   },
   "file_extension": ".py",
   "mimetype": "text/x-python",
   "name": "python",
   "nbconvert_exporter": "python",
   "pygments_lexer": "ipython3",
   "version": "3.8.17"
  },
  "orig_nbformat": 4
 },
 "nbformat": 4,
 "nbformat_minor": 2
}
