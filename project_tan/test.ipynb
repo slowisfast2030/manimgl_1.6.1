{
 "cells": [
  {
   "cell_type": "code",
   "execution_count": 1,
   "metadata": {},
   "outputs": [
    {
     "name": "stdout",
     "output_type": "stream",
     "text": [
      "hello world!\n"
     ]
    }
   ],
   "source": [
    "print(\"hello world!\")"
   ]
  },
  {
   "cell_type": "code",
   "execution_count": 3,
   "metadata": {},
   "outputs": [],
   "source": [
    "from PIL import Image\n",
    "\n",
    "# 设置图片尺寸和颜色\n",
    "width, height = 1080, 1440\n",
    "color = '#ADD8E6'  # 你可以使用颜色名称或者十六进制颜色代码\n",
    "\n",
    "# 创建纯色图片\n",
    "image = Image.new('RGB', (width, height), color)\n",
    "image.save('pure_color_image.png')\n"
   ]
  },
  {
   "cell_type": "code",
   "execution_count": 12,
   "metadata": {},
   "outputs": [
    {
     "name": "stderr",
     "output_type": "stream",
     "text": [
      "[nltk_data] Downloading package punkt to /Users/linus/nltk_data...\n",
      "[nltk_data]   Package punkt is already up-to-date!\n",
      "[nltk_data] Downloading package words to /Users/linus/nltk_data...\n",
      "[nltk_data]   Package words is already up-to-date!\n",
      "unknown widths : \n",
      "[0, IndirectObject(566, 0, 140615132811120)]\n",
      "unknown widths : \n",
      "[0, IndirectObject(573, 0, 140615132811120)]\n",
      "unknown widths : \n",
      "[0, IndirectObject(577, 0, 140615132811120)]\n",
      "unknown widths : \n",
      "[0, IndirectObject(409, 0, 140615132811120)]\n",
      "unknown widths : \n",
      "[0, IndirectObject(417, 0, 140615132811120)]\n",
      "unknown widths : \n",
      "[0, IndirectObject(420, 0, 140615132811120)]\n",
      "unknown widths : \n",
      "[0, IndirectObject(425, 0, 140615132811120)]\n",
      "unknown widths : \n",
      "[0, IndirectObject(430, 0, 140615132811120)]\n"
     ]
    },
    {
     "name": "stdout",
     "output_type": "stream",
     "text": [
      "\n",
      "\n",
      "\n",
      "Section I Use of English \n",
      "Directions: \n",
      "For each numbered blank in the following passage, there are four choices marked [A], [B], [C], and \n",
      "[D]. Choose the best one and mark your answer on ANSWER SHEET 1 by blackening the \n",
      "corresponding letter in the brackets with a pencil. (10 points) \n",
      "If a farmer wishes to succeed, he must try to keep a wide gap between his consumption and his \n",
      "production. He must store a large quantity of grain 1 consuming all his grain immediately. He can \n",
      "continue to support himself and his family 2 he produces a surplus. He must use this surplus in \n",
      "three ways: as seed for sowing, as an insurance_3_the unpredictable effects of bad weather and as a \n",
      "commodity which he must sell in order to 4 old agricultural implements and obtain chemical \n",
      "fertilizers to_5_the soil. He may also need money to construct irrigation-----2 _and improve his farm \n",
      "in other ways. If no surplus is available, a farmer cannot be 7 . He must either sell some of his \n",
      "property or 8 extra funds i\n"
     ]
    }
   ],
   "source": [
    "import PyPDF2\n",
    "import nltk\n",
    "from collections import Counter\n",
    "from nltk.corpus import words\n",
    "from nltk.tokenize import word_tokenize\n",
    "\n",
    "# Download necessary NLTK data\n",
    "nltk.download('punkt')\n",
    "nltk.download('words')\n",
    "\n",
    "# Set of English words\n",
    "english_words = set(words.words())\n",
    "\n",
    "def read_pdf(file_path):\n",
    "    with open(file_path, 'rb') as file:\n",
    "        reader = PyPDF2.PdfReader(file)\n",
    "        text = ''\n",
    "        for page in reader.pages:\n",
    "            text += page.extract_text()\n",
    "        return text\n",
    "\n",
    "def word_freq_analysis(text):\n",
    "    # Tokenize and filter non-English words and punctuation\n",
    "    tokens = word_tokenize(text)\n",
    "    english_tokens = [word.lower() for word in tokens if word.isalpha() and word.lower() in english_words]\n",
    "\n",
    "    # Count the frequency of each word\n",
    "    word_count = Counter(english_tokens)\n",
    "    return word_count\n",
    "\n",
    "# Example usage\n",
    "file_path = '/Users/linus/Desktop/ai_zhenti/yan_2000.pdf'  # Replace with your PDF file path\n",
    "text = read_pdf(file_path)\n",
    "word_frequency = word_freq_analysis(text)\n",
    "\n",
    "print(\"\\n\\n\")\n",
    "print(text[:1000])\n",
    "\n",
    "# for word, freq in word_frequency.most_common(100):  # Display the top 10 words\n",
    "#     print(word, freq)\n"
   ]
  },
  {
   "cell_type": "code",
   "execution_count": null,
   "metadata": {},
   "outputs": [],
   "source": []
  }
 ],
 "metadata": {
  "kernelspec": {
   "display_name": "manim_latest",
   "language": "python",
   "name": "python3"
  },
  "language_info": {
   "codemirror_mode": {
    "name": "ipython",
    "version": 3
   },
   "file_extension": ".py",
   "mimetype": "text/x-python",
   "name": "python",
   "nbconvert_exporter": "python",
   "pygments_lexer": "ipython3",
   "version": "3.9.12"
  }
 },
 "nbformat": 4,
 "nbformat_minor": 2
}
