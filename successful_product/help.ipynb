{
 "cells": [
  {
   "cell_type": "code",
   "execution_count": 1,
   "metadata": {},
   "outputs": [
    {
     "name": "stdout",
     "output_type": "stream",
     "text": [
      "The angle for the point (1, 1) is 45.0 degrees.\n"
     ]
    }
   ],
   "source": [
    "import math\n",
    "\n",
    "def calculate_angle(x, y):\n",
    "    angle = math.atan2(y, x)\n",
    "    angle_in_degrees = math.degrees(angle)\n",
    "    return angle_in_degrees\n",
    "\n",
    "# 测试示例\n",
    "x = 1\n",
    "y = 1\n",
    "\n",
    "angle = calculate_angle(x, y)\n",
    "print(f\"The angle for the point ({x}, {y}) is {angle} degrees.\")\n"
   ]
  },
  {
   "cell_type": "code",
   "execution_count": 2,
   "metadata": {},
   "outputs": [
    {
     "name": "stdout",
     "output_type": "stream",
     "text": [
      "The angle for the point (1, 1) is 0.7853981633974483 radians.\n"
     ]
    }
   ],
   "source": [
    "import math\n",
    "\n",
    "def calculate_angle_in_radians(x, y):\n",
    "    angle = math.atan2(y, x)\n",
    "    return angle\n",
    "\n",
    "# 测试示例\n",
    "x = 1\n",
    "y = 1\n",
    "\n",
    "angle_in_radians = calculate_angle_in_radians(x, y)\n",
    "print(f\"The angle for the point ({x}, {y}) is {angle_in_radians} radians.\")\n"
   ]
  },
  {
   "cell_type": "code",
   "execution_count": 1,
   "metadata": {},
   "outputs": [
    {
     "name": "stdout",
     "output_type": "stream",
     "text": [
      "[1, 4, 9, 16, 25]\n"
     ]
    }
   ],
   "source": [
    "# Define a simple function to square a number\n",
    "def square(x):\n",
    "    return x * x\n",
    "\n",
    "# Our list of numbers\n",
    "numbers = [1, 2, 3, 4, 5]\n",
    "\n",
    "# Use map to apply the square function to each number, then convert the result to a list\n",
    "squared_numbers = list(map(square, numbers))\n",
    "\n",
    "print(squared_numbers)\n"
   ]
  },
  {
   "cell_type": "code",
   "execution_count": 7,
   "metadata": {},
   "outputs": [
    {
     "name": "stdout",
     "output_type": "stream",
     "text": [
      "1 2 3 4 5 6\n"
     ]
    }
   ],
   "source": [
    "import itertools\n",
    "\n",
    "list1 = [1, 2, 3]\n",
    "list2 = [4, 5, 6]\n",
    "\n",
    "combined = itertools.chain(list1, list2)\n",
    "print(*combined)\n",
    "\n",
    "# for item in combined:\n",
    "#     print(item)\n"
   ]
  },
  {
   "cell_type": "code",
   "execution_count": 10,
   "metadata": {},
   "outputs": [
    {
     "name": "stdout",
     "output_type": "stream",
     "text": [
      "('Change in area', 'Change in x')\n",
      "('d(x^2)', 'dx')\n"
     ]
    }
   ],
   "source": [
    "for pair in [(\"Change in area\", \"Change in x\"), (\"d(x^2)\", \"dx\")]:\n",
    "    print(pair)"
   ]
  },
  {
   "cell_type": "code",
   "execution_count": null,
   "metadata": {},
   "outputs": [],
   "source": []
  },
  {
   "cell_type": "code",
   "execution_count": null,
   "metadata": {},
   "outputs": [],
   "source": []
  },
  {
   "cell_type": "code",
   "execution_count": null,
   "metadata": {},
   "outputs": [],
   "source": []
  },
  {
   "cell_type": "code",
   "execution_count": null,
   "metadata": {},
   "outputs": [],
   "source": []
  }
 ],
 "metadata": {
  "kernelspec": {
   "display_name": "manimgl_1.6.1",
   "language": "python",
   "name": "python3"
  },
  "language_info": {
   "codemirror_mode": {
    "name": "ipython",
    "version": 3
   },
   "file_extension": ".py",
   "mimetype": "text/x-python",
   "name": "python",
   "nbconvert_exporter": "python",
   "pygments_lexer": "ipython3",
   "version": "3.8.17"
  }
 },
 "nbformat": 4,
 "nbformat_minor": 2
}
