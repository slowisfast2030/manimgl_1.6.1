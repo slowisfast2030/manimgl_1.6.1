{
 "cells": [
  {
   "cell_type": "code",
   "execution_count": 1,
   "metadata": {},
   "outputs": [
    {
     "name": "stdout",
     "output_type": "stream",
     "text": [
      "The angle for the point (1, 1) is 45.0 degrees.\n"
     ]
    }
   ],
   "source": [
    "import math\n",
    "\n",
    "def calculate_angle(x, y):\n",
    "    angle = math.atan2(y, x)\n",
    "    angle_in_degrees = math.degrees(angle)\n",
    "    return angle_in_degrees\n",
    "\n",
    "# 测试示例\n",
    "x = 1\n",
    "y = 1\n",
    "\n",
    "angle = calculate_angle(x, y)\n",
    "print(f\"The angle for the point ({x}, {y}) is {angle} degrees.\")\n"
   ]
  },
  {
   "cell_type": "code",
   "execution_count": 2,
   "metadata": {},
   "outputs": [
    {
     "name": "stdout",
     "output_type": "stream",
     "text": [
      "The angle for the point (1, 1) is 0.7853981633974483 radians.\n"
     ]
    }
   ],
   "source": [
    "import math\n",
    "\n",
    "def calculate_angle_in_radians(x, y):\n",
    "    angle = math.atan2(y, x)\n",
    "    return angle\n",
    "\n",
    "# 测试示例\n",
    "x = 1\n",
    "y = 1\n",
    "\n",
    "angle_in_radians = calculate_angle_in_radians(x, y)\n",
    "print(f\"The angle for the point ({x}, {y}) is {angle_in_radians} radians.\")\n"
   ]
  },
  {
   "cell_type": "code",
   "execution_count": 1,
   "metadata": {},
   "outputs": [
    {
     "name": "stdout",
     "output_type": "stream",
     "text": [
      "[1, 4, 9, 16, 25]\n"
     ]
    }
   ],
   "source": [
    "# Define a simple function to square a number\n",
    "def square(x):\n",
    "    return x * x\n",
    "\n",
    "# Our list of numbers\n",
    "numbers = [1, 2, 3, 4, 5]\n",
    "\n",
    "# Use map to apply the square function to each number, then convert the result to a list\n",
    "squared_numbers = list(map(square, numbers))\n",
    "\n",
    "print(squared_numbers)\n"
   ]
  },
  {
   "cell_type": "code",
   "execution_count": 7,
   "metadata": {},
   "outputs": [
    {
     "name": "stdout",
     "output_type": "stream",
     "text": [
      "1 2 3 4 5 6\n"
     ]
    }
   ],
   "source": [
    "import itertools\n",
    "\n",
    "list1 = [1, 2, 3]\n",
    "list2 = [4, 5, 6]\n",
    "\n",
    "combined = itertools.chain(list1, list2)\n",
    "print(*combined)\n",
    "\n",
    "# for item in combined:\n",
    "#     print(item)\n"
   ]
  },
  {
   "cell_type": "code",
   "execution_count": 10,
   "metadata": {},
   "outputs": [
    {
     "name": "stdout",
     "output_type": "stream",
     "text": [
      "('Change in area', 'Change in x')\n",
      "('d(x^2)', 'dx')\n"
     ]
    }
   ],
   "source": [
    "for pair in [(\"Change in area\", \"Change in x\"), (\"d(x^2)\", \"dx\")]:\n",
    "    print(pair)"
   ]
  },
  {
   "cell_type": "code",
   "execution_count": 1,
   "metadata": {},
   "outputs": [
    {
     "data": {
      "text/plain": [
       "['Index: 0, Rectangle: rect1, Scale Factor: 0.0',\n",
       " 'Index: 1, Rectangle: rect2, Scale Factor: 0.1',\n",
       " 'Index: 2, Rectangle: rect3, Scale Factor: 0.2',\n",
       " 'Index: 3, Rectangle: rect4, Scale Factor: 0.30000000000000004',\n",
       " 'Index: 4, Rectangle: rect5, Scale Factor: 0.4',\n",
       " 'Index: 5, Rectangle: rect6, Scale Factor: 0.5']"
      ]
     },
     "execution_count": 1,
     "metadata": {},
     "output_type": "execute_result"
    }
   ],
   "source": [
    "import itertools as it\n",
    "import numpy as np\n",
    "\n",
    "# Example list of rectangles (or any objects)\n",
    "rects = ['rect1', 'rect2', 'rect3', 'rect4', 'rect5', 'rect6']\n",
    "\n",
    "# Storing the output in a list to display\n",
    "output = []\n",
    "\n",
    "# Looping through the iterables\n",
    "for index, rect, r in zip(it.count(), rects, np.arange(0, 3, 0.1)):\n",
    "    output.append(f\"Index: {index}, Rectangle: {rect}, Scale Factor: {r}\")\n",
    "\n",
    "output\n"
   ]
  },
  {
   "cell_type": "code",
   "execution_count": null,
   "metadata": {},
   "outputs": [],
   "source": []
  },
  {
   "cell_type": "code",
   "execution_count": null,
   "metadata": {},
   "outputs": [],
   "source": []
  },
  {
   "cell_type": "code",
   "execution_count": null,
   "metadata": {},
   "outputs": [],
   "source": []
  }
 ],
 "metadata": {
  "kernelspec": {
   "display_name": "manimgl_1.6.1",
   "language": "python",
   "name": "python3"
  },
  "language_info": {
   "codemirror_mode": {
    "name": "ipython",
    "version": 3
   },
   "file_extension": ".py",
   "mimetype": "text/x-python",
   "name": "python",
   "nbconvert_exporter": "python",
   "pygments_lexer": "ipython3",
   "version": "3.8.17"
  }
 },
 "nbformat": 4,
 "nbformat_minor": 2
}
