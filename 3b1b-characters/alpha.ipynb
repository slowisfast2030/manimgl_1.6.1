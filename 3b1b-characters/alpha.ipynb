{
 "cells": [
  {
   "cell_type": "code",
   "execution_count": 20,
   "metadata": {},
   "outputs": [],
   "source": [
    "import yaml\n",
    "import numpy as np\n",
    "\n",
    "# Step 1: Create a Python dictionary with data\n",
    "data_to_write = {\n",
    "    \"name\": \"Mary\",\n",
    "    \"age\": 23,\n",
    "    \"hobbies\": [\"dancing\", \"singing\"]\n",
    "}\n",
    "\n",
    "# Step 2: Open the YAML file in write mode\n",
    "with open('aaaaaa.yml', 'w') as yaml_file:\n",
    "    # Step 3: Write the Python data structure to the YAML file\n",
    "    yaml.dump(data_to_write, yaml_file)\n",
    "\n",
    "# The data has been written to 'output.yml' in YAML format\n"
   ]
  }
 ],
 "metadata": {
  "kernelspec": {
   "display_name": "manimgl_1.6.1",
   "language": "python",
   "name": "python3"
  },
  "language_info": {
   "codemirror_mode": {
    "name": "ipython",
    "version": 3
   },
   "file_extension": ".py",
   "mimetype": "text/x-python",
   "name": "python",
   "nbconvert_exporter": "python",
   "pygments_lexer": "ipython3",
   "version": "3.8.17"
  },
  "orig_nbformat": 4
 },
 "nbformat": 4,
 "nbformat_minor": 2
}
