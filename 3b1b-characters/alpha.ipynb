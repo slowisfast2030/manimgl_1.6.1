{
 "cells": [
  {
   "cell_type": "code",
   "execution_count": 21,
   "metadata": {},
   "outputs": [],
   "source": [
    "import yaml\n",
    "import numpy as np\n",
    "\n",
    "# Step 1: Create a Python dictionary with data\n",
    "data_to_write = {\n",
    "    \"name\": \"Mary\",\n",
    "    \"age\": 23,\n",
    "    \"hobbies\": [\"dancing\", \"singing\"]\n",
    "}\n",
    "\n",
    "# Step 2: Open the YAML file in write mode\n",
    "with open('aaaaaa.yml', 'w') as yaml_file:\n",
    "    # Step 3: Write the Python data structure to the YAML file\n",
    "    yaml.dump(data_to_write, yaml_file)\n",
    "\n",
    "# The data has been written to 'output.yml' in YAML format\n"
   ]
  },
  {
   "cell_type": "code",
   "execution_count": 29,
   "metadata": {},
   "outputs": [],
   "source": [
    "import pickle\n",
    "\n",
    "# Your dictionary\n",
    "my_dict = {\n",
    "    \"name\": \"Mary\",\n",
    "    \"age\": np.array([1,2,3]),\n",
    "    \"hobbies\": [\"dancing\", \"singing\"]\n",
    "}\n",
    "\n",
    "# Save the dictionary to a file\n",
    "with open('aaa.pkl', 'wb') as file:\n",
    "    pickle.dump(my_dict, file)\n",
    "\n"
   ]
  },
  {
   "cell_type": "code",
   "execution_count": 30,
   "metadata": {},
   "outputs": [
    {
     "name": "stdout",
     "output_type": "stream",
     "text": [
      "{'name': 'Mary', 'age': array([1, 2, 3]), 'hobbies': ['dancing', 'singing']}\n"
     ]
    }
   ],
   "source": [
    "with open('aaa.pkl', 'rb') as file:\n",
    "    loaded_dict = pickle.load(file)\n",
    "\n",
    "print(loaded_dict)\n"
   ]
  },
  {
   "cell_type": "code",
   "execution_count": 31,
   "metadata": {},
   "outputs": [
    {
     "data": {
      "text/plain": [
       "array([1, 2, 3])"
      ]
     },
     "execution_count": 31,
     "metadata": {},
     "output_type": "execute_result"
    }
   ],
   "source": [
    "loaded_dict[\"age\"]"
   ]
  },
  {
   "cell_type": "code",
   "execution_count": 45,
   "metadata": {},
   "outputs": [
    {
     "name": "stdout",
     "output_type": "stream",
     "text": [
      "Data has been saved to aaa.json\n"
     ]
    }
   ],
   "source": [
    "import json\n",
    "\n",
    "data = {\n",
    "    \"name\": \"John\",\n",
    "    \"age\": np.array([1,2,3]).tolist(),\n",
    "    \"city\": \"New York\"\n",
    "}\n",
    "\n",
    "file_path = \"aaa.json\"\n",
    "\n",
    "with open(file_path, \"w\") as json_file:\n",
    "    json.dump(data, json_file)\n",
    "\n",
    "print(f\"Data has been saved to {file_path}\")\n"
   ]
  },
  {
   "cell_type": "code",
   "execution_count": 46,
   "metadata": {},
   "outputs": [
    {
     "name": "stdout",
     "output_type": "stream",
     "text": [
      "Data read from JSON file:\n",
      "{'name': 'John', 'age': [1, 2, 3], 'city': 'New York'}\n"
     ]
    }
   ],
   "source": [
    "import json\n",
    "\n",
    "file_path = \"aaa.json\"\n",
    "\n",
    "with open(file_path, \"r\") as json_file:\n",
    "    data = json.load(json_file)\n",
    "\n",
    "print(\"Data read from JSON file:\")\n",
    "print(data)\n"
   ]
  },
  {
   "cell_type": "code",
   "execution_count": 47,
   "metadata": {},
   "outputs": [
    {
     "data": {
      "text/plain": [
       "1"
      ]
     },
     "execution_count": 47,
     "metadata": {},
     "output_type": "execute_result"
    }
   ],
   "source": [
    "data['age'][0]\n"
   ]
  },
  {
   "cell_type": "code",
   "execution_count": null,
   "metadata": {},
   "outputs": [],
   "source": []
  }
 ],
 "metadata": {
  "kernelspec": {
   "display_name": "manimgl_1.6.1",
   "language": "python",
   "name": "python3"
  },
  "language_info": {
   "codemirror_mode": {
    "name": "ipython",
    "version": 3
   },
   "file_extension": ".py",
   "mimetype": "text/x-python",
   "name": "python",
   "nbconvert_exporter": "python",
   "pygments_lexer": "ipython3",
   "version": "3.8.17"
  },
  "orig_nbformat": 4
 },
 "nbformat": 4,
 "nbformat_minor": 2
}
