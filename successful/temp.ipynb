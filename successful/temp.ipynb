{
 "cells": [
  {
   "cell_type": "code",
   "execution_count": 1,
   "metadata": {},
   "outputs": [],
   "source": [
    "import numpy as np\n"
   ]
  },
  {
   "cell_type": "code",
   "execution_count": 5,
   "metadata": {},
   "outputs": [
    {
     "data": {
      "text/plain": [
       "array([[-0.8       , -0.8       ],\n",
       "       [-0.65294925, -0.46858711],\n",
       "       [-0.48285322, -0.25240055],\n",
       "       [-0.2962963 , -0.11851852],\n",
       "       [-0.09986283, -0.0340192 ],\n",
       "       [ 0.09986283,  0.0340192 ],\n",
       "       [ 0.2962963 ,  0.11851852],\n",
       "       [ 0.48285322,  0.25240055],\n",
       "       [ 0.65294925,  0.46858711],\n",
       "       [ 0.8       ,  0.8       ]])"
      ]
     },
     "execution_count": 5,
     "metadata": {},
     "output_type": "execute_result"
    }
   ],
   "source": [
    "# 计算贝塞尔曲线上的点\n",
    "def bezier_curve(points, num_segments):\n",
    "    t = np.linspace(0, 1, num=num_segments)\n",
    "    curve = np.zeros((num_segments, 2))\n",
    "    for i in range(num_segments):\n",
    "        curve[i] = (1 - t[i]) ** 3 * points[0] + 3 * (1 - t[i]) ** 2 * t[i] * points[1] + 3 * (1 - t[i]) * t[i] ** 2 * points[2] + t[i] ** 3 * points[3]\n",
    "    return curve\n",
    "\n",
    "# 定义控制点\n",
    "points = np.array([[-0.8, -0.8], [-0.4, 0.4], [0.4, -0.4], [0.8, 0.8]])\n",
    "\n",
    "# 计算曲线上的100个点\n",
    "curve = bezier_curve(points, 10)\n",
    "\n",
    "curve\n"
   ]
  },
  {
   "cell_type": "code",
   "execution_count": null,
   "metadata": {},
   "outputs": [],
   "source": []
  },
  {
   "cell_type": "code",
   "execution_count": null,
   "metadata": {},
   "outputs": [],
   "source": []
  },
  {
   "cell_type": "code",
   "execution_count": null,
   "metadata": {},
   "outputs": [],
   "source": []
  },
  {
   "cell_type": "code",
   "execution_count": 2,
   "metadata": {},
   "outputs": [
    {
     "data": {
      "text/plain": [
       "array([0, 1, 1])"
      ]
     },
     "execution_count": 2,
     "metadata": {},
     "output_type": "execute_result"
    }
   ],
   "source": [
    "import numpy as np\n",
    "direction = np.array((-1., 0., 0.))\n",
    "(np.sign(direction) + 1).astype(int)"
   ]
  },
  {
   "cell_type": "code",
   "execution_count": 5,
   "metadata": {},
   "outputs": [
    {
     "data": {
      "text/plain": [
       "array([1, 2, 3])"
      ]
     },
     "execution_count": 5,
     "metadata": {},
     "output_type": "execute_result"
    }
   ],
   "source": [
    "np.array([1,2,3])*np.array([1,1,1])"
   ]
  },
  {
   "cell_type": "code",
   "execution_count": 9,
   "metadata": {},
   "outputs": [
    {
     "data": {
      "text/plain": [
       "array([2, 1, 1])"
      ]
     },
     "execution_count": 9,
     "metadata": {},
     "output_type": "execute_result"
    }
   ],
   "source": [
    "(np.sign((10,0,0)) + 1).astype(int)"
   ]
  },
  {
   "cell_type": "code",
   "execution_count": 11,
   "metadata": {},
   "outputs": [
    {
     "data": {
      "text/plain": [
       "0"
      ]
     },
     "execution_count": 11,
     "metadata": {},
     "output_type": "execute_result"
    }
   ],
   "source": [
    "np.argmax([1,0,0])"
   ]
  },
  {
   "cell_type": "code",
   "execution_count": 12,
   "metadata": {},
   "outputs": [
    {
     "data": {
      "text/plain": [
       "2"
      ]
     },
     "execution_count": 12,
     "metadata": {},
     "output_type": "execute_result"
    }
   ],
   "source": [
    "np.dot([1,0,1], [1,2,1])"
   ]
  },
  {
   "cell_type": "code",
   "execution_count": 5,
   "metadata": {},
   "outputs": [
    {
     "data": {
      "text/plain": [
       "[[1, 2], [1, 2], [3, 4]]"
      ]
     },
     "execution_count": 5,
     "metadata": {},
     "output_type": "execute_result"
    }
   ],
   "source": [
    "points = [[1,2], [3,4]]\n",
    "points[:1] *= 2\n",
    "points\n"
   ]
  },
  {
   "cell_type": "code",
   "execution_count": 7,
   "metadata": {},
   "outputs": [
    {
     "data": {
      "text/plain": [
       "(3, 3)"
      ]
     },
     "execution_count": 7,
     "metadata": {},
     "output_type": "execute_result"
    }
   ],
   "source": [
    "a = np.array([[1,2,3],[4,5,6]])\n",
    "(3, *a.shape[1:])"
   ]
  },
  {
   "cell_type": "code",
   "execution_count": 11,
   "metadata": {},
   "outputs": [
    {
     "data": {
      "text/plain": [
       "array([[1, 2, 3]])"
      ]
     },
     "execution_count": 11,
     "metadata": {},
     "output_type": "execute_result"
    }
   ],
   "source": [
    "np.resize(a, (1, 3))"
   ]
  },
  {
   "cell_type": "code",
   "execution_count": 1,
   "metadata": {},
   "outputs": [
    {
     "data": {
      "text/plain": [
       "'helloworld'"
      ]
     },
     "execution_count": 1,
     "metadata": {},
     "output_type": "execute_result"
    }
   ],
   "source": [
    "\"\".join([\"hello\", \"world\"])"
   ]
  },
  {
   "cell_type": "code",
   "execution_count": 1,
   "metadata": {},
   "outputs": [
    {
     "data": {
      "text/plain": [
       "array([[0., 0., 0.],\n",
       "       [0., 0., 0.]])"
      ]
     },
     "execution_count": 1,
     "metadata": {},
     "output_type": "execute_result"
    }
   ],
   "source": [
    "import  numpy as np\n",
    "np.zeros((2,3))"
   ]
  },
  {
   "cell_type": "code",
   "execution_count": 6,
   "metadata": {},
   "outputs": [
    {
     "name": "stdout",
     "output_type": "stream",
     "text": [
      "Original:  [[1, 2, 3], [4, 5, 6]]\n",
      "Shallow:  [[1, 2, 3], [4, 5, 6]]\n",
      "Deep:  [[1, 2, 3], [4, 5, 6]]\n",
      "Original:  [[1, 'two', 3], [4, 5, 6]]\n",
      "Shallow:  [[1, 'two', 3], [4, 5, 6]]\n",
      "Deep:  [[1, 2, 3], [4, 5, 6]]\n"
     ]
    }
   ],
   "source": [
    "import copy\n",
    "\n",
    "original = [[1, 2, 3], [4, 5, 6]]\n",
    "\n",
    "# Shallow Copy\n",
    "shallow = copy.copy(original)\n",
    "\n",
    "# Deep Copy\n",
    "deep = copy.deepcopy(original)\n",
    "\n",
    "print(\"Original: \", original)\n",
    "print(\"Shallow: \", shallow)\n",
    "print(\"Deep: \", deep)\n",
    "\n",
    "original[0][1] = 'two'\n",
    "\n",
    "print(\"Original: \", original)\n",
    "print(\"Shallow: \", shallow)\n",
    "print(\"Deep: \", deep)"
   ]
  },
  {
   "cell_type": "code",
   "execution_count": 1,
   "metadata": {},
   "outputs": [
    {
     "name": "stdout",
     "output_type": "stream",
     "text": [
      "Original:  [[1, 2, 3], [4, 5, 6]]\n",
      "Shallow:  [[1, 2, 3], [4, 5, 6]]\n",
      "Deep:  [[1, 2, 3], [4, 5, 6]]\n",
      "Original:  [[1, 'two', 3], [4, 5, 6]]\n",
      "Shallow:  [[1, 'two', 3], [4, 5, 6]]\n",
      "Deep:  [[1, 2, 3], [4, 5, 6]]\n"
     ]
    }
   ],
   "source": [
    "import copy\n",
    "\n",
    "original = [[1, 2, 3], [4, 5, 6]]\n",
    "\n",
    "# Shallow Copy\n",
    "shallow = copy.copy(original)\n",
    "\n",
    "# Deep Copy\n",
    "deep = copy.deepcopy(original)\n",
    "\n",
    "print(\"Original: \", original)\n",
    "print(\"Shallow: \", shallow)\n",
    "print(\"Deep: \", deep)\n",
    "\n",
    "original[0][1] = 'two'\n",
    "\n",
    "print(\"Original: \", original)\n",
    "print(\"Shallow: \", shallow)\n",
    "print(\"Deep: \", deep)"
   ]
  }
 ],
 "metadata": {
  "kernelspec": {
   "display_name": "manimgl_1.6.1",
   "language": "python",
   "name": "python3"
  },
  "language_info": {
   "codemirror_mode": {
    "name": "ipython",
    "version": 3
   },
   "file_extension": ".py",
   "mimetype": "text/x-python",
   "name": "python",
   "nbconvert_exporter": "python",
   "pygments_lexer": "ipython3",
   "version": "3.8.17"
  },
  "orig_nbformat": 4
 },
 "nbformat": 4,
 "nbformat_minor": 2
}
