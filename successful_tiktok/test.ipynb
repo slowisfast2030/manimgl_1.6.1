{
 "cells": [
  {
   "cell_type": "code",
   "execution_count": null,
   "metadata": {},
   "outputs": [],
   "source": [
    "import copy\n",
    "\n",
    "original = [[1, 2, 3], [4, 5, 6]]\n",
    "\n",
    "# Shallow Copy\n",
    "shallow = copy.copy(original)\n",
    "\n",
    "# Deep Copy\n",
    "deep = copy.deepcopy(original)\n",
    "\n",
    "print(\"Original: \", original)\n",
    "print(\"Shallow: \", shallow)\n",
    "print(\"Deep: \", deep)\n",
    "\n",
    "original[0][1] = 'two'\n",
    "\n",
    "print(\"Original: \", original)\n",
    "print(\"Shallow: \", shallow)\n",
    "print(\"Deep: \", deep)"
   ]
  }
 ],
 "metadata": {
  "kernelspec": {
   "display_name": "manimgl_1.6.1",
   "language": "python",
   "name": "python3"
  },
  "language_info": {
   "name": "python",
   "version": "3.8.17"
  }
 },
 "nbformat": 4,
 "nbformat_minor": 2
}
